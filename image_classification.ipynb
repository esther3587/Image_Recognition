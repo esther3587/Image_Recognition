{
 "cells": [
  {
   "cell_type": "markdown",
   "metadata": {
    "collapsed": true,
    "deletable": true,
    "editable": true
   },
   "source": [
    "# Image Classification\n",
    "In this project, you'll classify images from the [CIFAR-10 dataset](https://www.cs.toronto.edu/~kriz/cifar.html).  The dataset consists of airplanes, dogs, cats, and other objects. You'll preprocess the images, then train a convolutional neural network on all the samples. The images need to be normalized and the labels need to be one-hot encoded.  You'll get to apply what you learned and build a convolutional, max pooling, dropout, and fully connected layers.  At the end, you'll get to see your neural network's predictions on the sample images.\n",
    "## Get the Data\n",
    "Run the following cell to download the [CIFAR-10 dataset for python](https://www.cs.toronto.edu/~kriz/cifar-10-python.tar.gz)."
   ]
  },
  {
   "cell_type": "code",
   "execution_count": 1,
   "metadata": {
    "collapsed": false,
    "deletable": true,
    "editable": true
   },
   "outputs": [
    {
     "name": "stdout",
     "output_type": "stream",
     "text": [
      "All files found!\n"
     ]
    }
   ],
   "source": [
    "\"\"\"\n",
    "DON'T MODIFY ANYTHING IN THIS CELL THAT IS BELOW THIS LINE\n",
    "\"\"\"\n",
    "from urllib.request import urlretrieve\n",
    "from os.path import isfile, isdir\n",
    "from tqdm import tqdm\n",
    "import problem_unittests as tests\n",
    "import tarfile\n",
    "\n",
    "cifar10_dataset_folder_path = 'cifar-10-batches-py'\n",
    "\n",
    "# Use Floyd's cifar-10 dataset if present\n",
    "floyd_cifar10_location = '/input/cifar-10/python.tar.gz'\n",
    "if isfile(floyd_cifar10_location):\n",
    "    tar_gz_path = floyd_cifar10_location\n",
    "else:\n",
    "    tar_gz_path = 'cifar-10-python.tar.gz'\n",
    "\n",
    "class DLProgress(tqdm):\n",
    "    last_block = 0\n",
    "\n",
    "    def hook(self, block_num=1, block_size=1, total_size=None):\n",
    "        self.total = total_size\n",
    "        self.update((block_num - self.last_block) * block_size)\n",
    "        self.last_block = block_num\n",
    "\n",
    "if not isfile(tar_gz_path):\n",
    "    with DLProgress(unit='B', unit_scale=True, miniters=1, desc='CIFAR-10 Dataset') as pbar:\n",
    "        urlretrieve(\n",
    "            'https://www.cs.toronto.edu/~kriz/cifar-10-python.tar.gz',\n",
    "            tar_gz_path,\n",
    "            pbar.hook)\n",
    "\n",
    "if not isdir(cifar10_dataset_folder_path):\n",
    "    with tarfile.open(tar_gz_path) as tar:\n",
    "        tar.extractall()\n",
    "        tar.close()\n",
    "\n",
    "\n",
    "tests.test_folder_path(cifar10_dataset_folder_path)"
   ]
  },
  {
   "cell_type": "markdown",
   "metadata": {
    "deletable": true,
    "editable": true
   },
   "source": [
    "## Explore the Data\n",
    "The dataset is broken into batches to prevent your machine from running out of memory.  The CIFAR-10 dataset consists of 5 batches, named `data_batch_1`, `data_batch_2`, etc.. Each batch contains the labels and images that are one of the following:\n",
    "* airplane\n",
    "* automobile\n",
    "* bird\n",
    "* cat\n",
    "* deer\n",
    "* dog\n",
    "* frog\n",
    "* horse\n",
    "* ship\n",
    "* truck\n",
    "\n",
    "Understanding a dataset is part of making predictions on the data.  Play around with the code cell below by changing the `batch_id` and `sample_id`. The `batch_id` is the id for a batch (1-5). The `sample_id` is the id for a image and label pair in the batch.\n",
    "\n",
    "Ask yourself \"What are all possible labels?\", \"What is the range of values for the image data?\", \"Are the labels in order or random?\".  Answers to questions like these will help you preprocess the data and end up with better predictions."
   ]
  },
  {
   "cell_type": "code",
   "execution_count": 2,
   "metadata": {
    "collapsed": false,
    "deletable": true,
    "editable": true
   },
   "outputs": [
    {
     "name": "stdout",
     "output_type": "stream",
     "text": [
      "\n",
      "Stats of batch 1:\n",
      "Samples: 10000\n",
      "Label Counts: {0: 1005, 1: 974, 2: 1032, 3: 1016, 4: 999, 5: 937, 6: 1030, 7: 1001, 8: 1025, 9: 981}\n",
      "First 20 Labels: [6, 9, 9, 4, 1, 1, 2, 7, 8, 3, 4, 7, 7, 2, 9, 9, 9, 3, 2, 6]\n",
      "\n",
      "Example of Image 5:\n",
      "Image - Min Value: 0 Max Value: 252\n",
      "Image - Shape: (32, 32, 3)\n",
      "Label - Label Id: 1 Name: automobile\n"
     ]
    },
    {
     "data": {
      "image/png": "[encoded data removed]",
      "text/plain": [
       "<matplotlib.figure.Figure at 0x7ff1cf4d8c18>"
      ]
     },
     "metadata": {
      "image/png": {
       "height": 250,
       "width": 253
      }
     },
     "output_type": "display_data"
    }
   ],
   "source": [
    "%matplotlib inline\n",
    "%config InlineBackend.figure_format = 'retina'\n",
    "\n",
    "import helper\n",
    "import numpy as np\n",
    "\n",
    "# Explore the dataset\n",
    "batch_id = 1\n",
    "sample_id = 5\n",
    "helper.display_stats(cifar10_dataset_folder_path, batch_id, sample_id)"
   ]
  },
  {
   "cell_type": "markdown",
   "metadata": {
    "deletable": true,
    "editable": true
   },
   "source": [
    "## Implement Preprocess Functions\n",
    "### Normalize\n",
    "In the cell below, implement the `normalize` function to take in image data, `x`, and return it as a normalized Numpy array. The values should be in the range of 0 to 1, inclusive.  The return object should be the same shape as `x`."
   ]
  },
  {
   "cell_type": "code",
   "execution_count": 3,
   "metadata": {
    "collapsed": false,
    "deletable": true,
    "editable": true
   },
   "outputs": [
    {
     "name": "stdout",
     "output_type": "stream",
     "text": [
      "Tests Passed\n"
     ]
    }
   ],
   "source": [
    "def normalize(x):\n",
    "    \"\"\"\n",
    "    Normalize a list of sample image data in the range of 0 to 1\n",
    "    : x: List of image data.  The image shape is (32, 32, 3)\n",
    "    : return: Numpy array of normalize data\n",
    "    \"\"\"\n",
    "    # TODO: Implement Function\n",
    "    scale_max = 255\n",
    "    scale_min = 0\n",
    "    return (x-scale_min)/(scale_max-scale_min)\n",
    "    \n",
    "\n",
    "\n",
    "\"\"\"\n",
    "DON'T MODIFY ANYTHING IN THIS CELL THAT IS BELOW THIS LINE\n",
    "\"\"\"\n",
    "tests.test_normalize(normalize)"
   ]
  },
  {
   "cell_type": "markdown",
   "metadata": {
    "deletable": true,
    "editable": true
   },
   "source": [
    "### One-hot encode\n",
    "Just like the previous code cell, you'll be implementing a function for preprocessing.  This time, you'll implement the `one_hot_encode` function. The input, `x`, are a list of labels.  Implement the function to return the list of labels as One-Hot encoded Numpy array.  The possible values for labels are 0 to 9. The one-hot encoding function should return the same encoding for each value between each call to `one_hot_encode`.  Make sure to save the map of encodings outside the function.\n",
    "\n",
    "Hint: Don't reinvent the wheel."
   ]
  },
  {
   "cell_type": "code",
   "execution_count": 4,
   "metadata": {
    "collapsed": false,
    "deletable": true,
    "editable": true
   },
   "outputs": [
    {
     "name": "stdout",
     "output_type": "stream",
     "text": [
      "Tests Passed\n"
     ]
    }
   ],
   "source": [
    "from sklearn import preprocessing\n",
    "lb = preprocessing.LabelBinarizer()\n",
    "lb.fit([0,1,2,3,4,5,6,7,8,9])\n",
    "\n",
    "def one_hot_encode(x):\n",
    "    \"\"\"\n",
    "    One hot encode a list of sample labels. Return a one-hot encoded vector for each label.\n",
    "    : x: List of sample Labels\n",
    "    : return: Numpy array of one-hot encoded labels\n",
    "    \"\"\"\n",
    "    # TODO: Implement Function\n",
    "    return lb.transform(x)\n",
    "\n",
    "\n",
    "\"\"\"\n",
    "DON'T MODIFY ANYTHING IN THIS CELL THAT IS BELOW THIS LINE\n",
    "\"\"\"\n",
    "tests.test_one_hot_encode(one_hot_encode)"
   ]
  },
  {
   "cell_type": "markdown",
   "metadata": {
    "deletable": true,
    "editable": true
   },
   "source": [
    "### Randomize Data\n",
    "As you saw from exploring the data above, the order of the samples are randomized.  It doesn't hurt to randomize it again, but you don't need to for this dataset."
   ]
  },
  {
   "cell_type": "markdown",
   "metadata": {
    "deletable": true,
    "editable": true
   },
   "source": [
    "## Preprocess all the data and save it\n",
    "Running the code cell below will preprocess all the CIFAR-10 data and save it to file. The code below also uses 10% of the training data for validation."
   ]
  },
  {
   "cell_type": "code",
   "execution_count": 5,
   "metadata": {
    "collapsed": false,
    "deletable": true,
    "editable": true
   },
   "outputs": [],
   "source": [
    "\"\"\"\n",
    "DON'T MODIFY ANYTHING IN THIS CELL\n",
    "\"\"\"\n",
    "# Preprocess Training, Validation, and Testing Data\n",
    "helper.preprocess_and_save_data(cifar10_dataset_folder_path, normalize, one_hot_encode)"
   ]
  },
  {
   "cell_type": "markdown",
   "metadata": {
    "deletable": true,
    "editable": true
   },
   "source": [
    "# Check Point\n",
    "This is your first checkpoint.  If you ever decide to come back to this notebook or have to restart the notebook, you can start from here.  The preprocessed data has been saved to disk."
   ]
  },
  {
   "cell_type": "code",
   "execution_count": 6,
   "metadata": {
    "collapsed": true,
    "deletable": true,
    "editable": true
   },
   "outputs": [],
   "source": [
    "\"\"\"\n",
    "DON'T MODIFY ANYTHING IN THIS CELL\n",
    "\"\"\"\n",
    "import pickle\n",
    "import problem_unittests as tests\n",
    "import helper\n",
    "\n",
    "# Load the Preprocessed Validation data\n",
    "valid_features, valid_labels = pickle.load(open('preprocess_validation.p', mode='rb'))"
   ]
  },
  {
   "cell_type": "markdown",
   "metadata": {
    "deletable": true,
    "editable": true
   },
   "source": [
    "## Build the network\n",
    "For the neural network, you'll build each layer into a function.  Most of the code you've seen has been outside of functions. To test your code more thoroughly, we require that you put each layer in a function.  This allows us to give you better feedback and test for simple mistakes using our unittests before you submit your project.\n",
    "\n",
    ">**Note:** If you're finding it hard to dedicate enough time for this course each week, we've provided a small shortcut to this part of the project. In the next couple of problems, you'll have the option to use classes from the [TensorFlow Layers](https://www.tensorflow.org/api_docs/python/tf/layers) or [TensorFlow Layers (contrib)](https://www.tensorflow.org/api_guides/python/contrib.layers) packages to build each layer, except the layers you build in the \"Convolutional and Max Pooling Layer\" section.  TF Layers is similar to Keras's and TFLearn's abstraction to layers, so it's easy to pickup.\n",
    "\n",
    ">However, if you would like to get the most out of this course, try to solve all the problems _without_ using anything from the TF Layers packages. You **can** still use classes from other packages that happen to have the same name as ones you find in TF Layers! For example, instead of using the TF Layers version of the `conv2d` class, [tf.layers.conv2d](https://www.tensorflow.org/api_docs/python/tf/layers/conv2d), you would want to use the TF Neural Network version of `conv2d`, [tf.nn.conv2d](https://www.tensorflow.org/api_docs/python/tf/nn/conv2d). \n",
    "\n",
    "Let's begin!\n",
    "\n",
    "### Input\n",
    "The neural network needs to read the image data, one-hot encoded labels, and dropout keep probability. Implement the following functions\n",
    "* Implement `neural_net_image_input`\n",
    " * Return a [TF Placeholder](https://www.tensorflow.org/api_docs/python/tf/placeholder)\n",
    " * Set the shape using `image_shape` with batch size set to `None`.\n",
    " * Name the TensorFlow placeholder \"x\" using the TensorFlow `name` parameter in the [TF Placeholder](https://www.tensorflow.org/api_docs/python/tf/placeholder).\n",
    "* Implement `neural_net_label_input`\n",
    " * Return a [TF Placeholder](https://www.tensorflow.org/api_docs/python/tf/placeholder)\n",
    " * Set the shape using `n_classes` with batch size set to `None`.\n",
    " * Name the TensorFlow placeholder \"y\" using the TensorFlow `name` parameter in the [TF Placeholder](https://www.tensorflow.org/api_docs/python/tf/placeholder).\n",
    "* Implement `neural_net_keep_prob_input`\n",
    " * Return a [TF Placeholder](https://www.tensorflow.org/api_docs/python/tf/placeholder) for dropout keep probability.\n",
    " * Name the TensorFlow placeholder \"keep_prob\" using the TensorFlow `name` parameter in the [TF Placeholder](https://www.tensorflow.org/api_docs/python/tf/placeholder).\n",
    "\n",
    "These names will be used at the end of the project to load your saved model.\n",
    "\n",
    "Note: `None` for shapes in TensorFlow allow for a dynamic size."
   ]
  },
  {
   "cell_type": "code",
   "execution_count": 7,
   "metadata": {
    "collapsed": false,
    "deletable": true,
    "editable": true
   },
   "outputs": [
    {
     "name": "stdout",
     "output_type": "stream",
     "text": [
      "Image Input Tests Passed.\n",
      "Label Input Tests Passed.\n",
      "Keep Prob Tests Passed.\n"
     ]
    }
   ],
   "source": [
    "import tensorflow as tf\n",
    "\n",
    "def neural_net_image_input(image_shape):\n",
    "    \"\"\"\n",
    "    Return a Tensor for a bach of image input\n",
    "    : image_shape: Shape of the images\n",
    "    : return: Tensor for image input.\n",
    "    \"\"\"\n",
    "    # TODO: Implement Function\n",
    "    return tf.placeholder(tf.float32, shape=[None, image_shape[0], image_shape[1], image_shape[2]], name='x')\n",
    "\n",
    "\n",
    "def neural_net_label_input(n_classes):\n",
    "    \"\"\"\n",
    "    Return a Tensor for a batch of label input\n",
    "    : n_classes: Number of classes\n",
    "    : return: Tensor for label input.\n",
    "    \"\"\"\n",
    "    # TODO: Implement Function\n",
    "    return tf.placeholder(tf.float32, shape=[None, n_classes], name='y')\n",
    "\n",
    "\n",
    "def neural_net_keep_prob_input():\n",
    "    \"\"\"\n",
    "    Return a Tensor for keep probability\n",
    "    : return: Tensor for keep probability.\n",
    "    \"\"\"\n",
    "    # TODO: Implement Function\n",
    "    return tf.placeholder(tf.float32, name='keep_prob')\n",
    "\n",
    "\n",
    "\n",
    "\"\"\"\n",
    "DON'T MODIFY ANYTHING IN THIS CELL THAT IS BELOW THIS LINE\n",
    "\"\"\"\n",
    "tf.reset_default_graph()\n",
    "tests.test_nn_image_inputs(neural_net_image_input)\n",
    "tests.test_nn_label_inputs(neural_net_label_input)\n",
    "tests.test_nn_keep_prob_inputs(neural_net_keep_prob_input)"
   ]
  },
  {
   "cell_type": "markdown",
   "metadata": {
    "deletable": true,
    "editable": true
   },
   "source": [
    "### Convolution and Max Pooling Layer\n",
    "Convolution layers have a lot of success with images. For this code cell, you should implement the function `conv2d_maxpool` to apply convolution then max pooling:\n",
    "* Create the weight and bias using `conv_ksize`, `conv_num_outputs` and the shape of `x_tensor`.\n",
    "* Apply a convolution to `x_tensor` using weight and `conv_strides`.\n",
    " * We recommend you use same padding, but you're welcome to use any padding.\n",
    "* Add bias\n",
    "* Add a nonlinear activation to the convolution.\n",
    "* Apply Max Pooling using `pool_ksize` and `pool_strides`.\n",
    " * We recommend you use same padding, but you're welcome to use any padding.\n",
    "\n",
    "**Note:** You **can't** use [TensorFlow Layers](https://www.tensorflow.org/api_docs/python/tf/layers) or [TensorFlow Layers (contrib)](https://www.tensorflow.org/api_guides/python/contrib.layers) for **this** layer, but you can still use TensorFlow's [Neural Network](https://www.tensorflow.org/api_docs/python/tf/nn) package. You may still use the shortcut option for all the **other** layers."
   ]
  },
  {
   "cell_type": "code",
   "execution_count": 8,
   "metadata": {
    "collapsed": false,
    "deletable": true,
    "editable": true
   },
   "outputs": [
    {
     "name": "stdout",
     "output_type": "stream",
     "text": [
      "Tests Passed\n"
     ]
    }
   ],
   "source": [
    "def conv2d_maxpool(x_tensor, conv_num_outputs, conv_ksize, conv_strides, pool_ksize, pool_strides):\n",
    "    \"\"\"\n",
    "    Apply convolution then max pooling to x_tensor\n",
    "    :param x_tensor: TensorFlow Tensor\n",
    "    :param conv_num_outputs: Number of outputs for the convolutional layer\n",
    "    :param conv_ksize: kernal size 2-D Tuple for the convolutional layer\n",
    "    :param conv_strides: Stride 2-D Tuple for convolution\n",
    "    :param pool_ksize: kernal size 2-D Tuple for pool\n",
    "    :param pool_strides: Stride 2-D Tuple for pool\n",
    "    : return: A tensor that represents convolution and max pooling of x_tensor\n",
    "    \"\"\"\n",
    "    # TODO: Implement Function\n",
    "    filter_height = conv_ksize[0]\n",
    "    filter_width = conv_ksize[1]\n",
    "    in_depth = x_tensor.get_shape().as_list()[3]\n",
    "    out_depth = conv_num_outputs\n",
    "    \n",
    "    weights = tf.Variable(tf.truncated_normal([filter_height, filter_width, in_depth, out_depth], \n",
    "                                              mean = 0.0, stddev = 1.0/out_depth))\n",
    "    biases = tf.Variable(tf.zeros(conv_num_outputs))\n",
    "    \n",
    "    conv_layer_out = tf.nn.bias_add(tf.nn.conv2d(x_tensor, weights, \n",
    "                                                 strides=[1, conv_strides[0], conv_strides[1], 1], padding='SAME'), \n",
    "                                                 biases)\n",
    "    conv_layer_out = tf.nn.relu(conv_layer_out)\n",
    "    maxpooling_out = tf.nn.max_pool(conv_layer_out, ksize=[1, pool_ksize[0], pool_ksize[1], 1], strides=[1, pool_strides[0], pool_strides[1], 1], padding='SAME') \n",
    "    \n",
    "    return maxpooling_out \n",
    "\n",
    "\n",
    "\"\"\"\n",
    "DON'T MODIFY ANYTHING IN THIS CELL THAT IS BELOW THIS LINE\n",
    "\"\"\"\n",
    "tests.test_con_pool(conv2d_maxpool)"
   ]
  },
  {
   "cell_type": "markdown",
   "metadata": {
    "deletable": true,
    "editable": true
   },
   "source": [
    "### Flatten Layer\n",
    "Implement the `flatten` function to change the dimension of `x_tensor` from a 4-D tensor to a 2-D tensor.  The output should be the shape (*Batch Size*, *Flattened Image Size*). Shortcut option: you can use classes from the [TensorFlow Layers](https://www.tensorflow.org/api_docs/python/tf/layers) or [TensorFlow Layers (contrib)](https://www.tensorflow.org/api_guides/python/contrib.layers) packages for this layer. For more of a challenge, only use other TensorFlow packages."
   ]
  },
  {
   "cell_type": "code",
   "execution_count": 9,
   "metadata": {
    "collapsed": false,
    "deletable": true,
    "editable": true
   },
   "outputs": [
    {
     "name": "stdout",
     "output_type": "stream",
     "text": [
      "Tests Passed\n"
     ]
    }
   ],
   "source": [
    "def flatten(x_tensor):\n",
    "    \"\"\"\n",
    "    Flatten x_tensor to (Batch Size, Flattened Image Size)\n",
    "    : x_tensor: A tensor of size (Batch Size, ...), where ... are the image dimensions.\n",
    "    : return: A tensor of size (Batch Size, Flattened Image Size).\n",
    "    \"\"\"\n",
    "    # TODO: Implement Function\n",
    "    x_dim = x_tensor.get_shape().as_list()\n",
    "    return tf.reshape(x_tensor, [-1, x_dim[1]*x_dim[2]*x_dim[3]])\n",
    "\n",
    "\n",
    "\"\"\"\n",
    "DON'T MODIFY ANYTHING IN THIS CELL THAT IS BELOW THIS LINE\n",
    "\"\"\"\n",
    "tests.test_flatten(flatten)"
   ]
  },
  {
   "cell_type": "markdown",
   "metadata": {
    "deletable": true,
    "editable": true
   },
   "source": [
    "### Fully-Connected Layer\n",
    "Implement the `fully_conn` function to apply a fully connected layer to `x_tensor` with the shape (*Batch Size*, *num_outputs*). Shortcut option: you can use classes from the [TensorFlow Layers](https://www.tensorflow.org/api_docs/python/tf/layers) or [TensorFlow Layers (contrib)](https://www.tensorflow.org/api_guides/python/contrib.layers) packages for this layer. For more of a challenge, only use other TensorFlow packages."
   ]
  },
  {
   "cell_type": "code",
   "execution_count": 10,
   "metadata": {
    "collapsed": false,
    "deletable": true,
    "editable": true
   },
   "outputs": [
    {
     "name": "stdout",
     "output_type": "stream",
     "text": [
      "Tests Passed\n"
     ]
    }
   ],
   "source": [
    "def fully_conn(x_tensor, num_outputs):\n",
    "    \"\"\"\n",
    "    Apply a fully connected layer to x_tensor using weight and bias\n",
    "    : x_tensor: A 2-D tensor where the first dimension is batch size.\n",
    "    : num_outputs: The number of output that the new tensor should be.\n",
    "    : return: A 2-D tensor where the second dimension is num_outputs.\n",
    "    \"\"\"\n",
    "    # TODO: Implement Function\n",
    "    input_size = x_tensor.get_shape().as_list()[1]\n",
    "    output_size = num_outputs \n",
    "    \n",
    "    weights = tf.Variable(tf.truncated_normal([input_size, output_size], mean = 0.0, stddev = 1.0 / input_size))\n",
    "    biases = tf.Variable(tf.zeros(num_outputs))\n",
    "    fc_out = tf.add(tf.matmul(x_tensor, weights), biases)\n",
    "    \n",
    "    return fc_out\n",
    "\n",
    "\n",
    "\"\"\"\n",
    "DON'T MODIFY ANYTHING IN THIS CELL THAT IS BELOW THIS LINE\n",
    "\"\"\"\n",
    "tests.test_fully_conn(fully_conn)"
   ]
  },
  {
   "cell_type": "markdown",
   "metadata": {
    "deletable": true,
    "editable": true
   },
   "source": [
    "### Output Layer\n",
    "Implement the `output` function to apply a fully connected layer to `x_tensor` with the shape (*Batch Size*, *num_outputs*). Shortcut option: you can use classes from the [TensorFlow Layers](https://www.tensorflow.org/api_docs/python/tf/layers) or [TensorFlow Layers (contrib)](https://www.tensorflow.org/api_guides/python/contrib.layers) packages for this layer. For more of a challenge, only use other TensorFlow packages.\n",
    "\n",
    "**Note:** Activation, softmax, or cross entropy should **not** be applied to this."
   ]
  },
  {
   "cell_type": "code",
   "execution_count": 11,
   "metadata": {
    "collapsed": false,
    "deletable": true,
    "editable": true
   },
   "outputs": [
    {
     "name": "stdout",
     "output_type": "stream",
     "text": [
      "Tests Passed\n"
     ]
    }
   ],
   "source": [
    "def output(x_tensor, num_outputs):\n",
    "    \"\"\"\n",
    "    Apply a output layer to x_tensor using weight and bias\n",
    "    : x_tensor: A 2-D tensor where the first dimension is batch size.\n",
    "    : num_outputs: The number of output that the new tensor should be.\n",
    "    : return: A 2-D tensor where the second dimension is num_outputs.\n",
    "    \"\"\"\n",
    "    # TODO: Implement Function\n",
    "    input_size = x_tensor.get_shape().as_list()[1]\n",
    "    output_size = num_outputs\n",
    "    \n",
    "    weights = tf.Variable(tf.truncated_normal([input_size, output_size], mean = 0.0, stddev = 1.0/input_size))\n",
    "    biases = tf.Variable(tf.zeros(num_outputs))    \n",
    "    out = tf.add(tf.matmul(x_tensor, weights), biases)\n",
    "    return out\n",
    "\n",
    "\n",
    "\"\"\"\n",
    "DON'T MODIFY ANYTHING IN THIS CELL THAT IS BELOW THIS LINE\n",
    "\"\"\"\n",
    "tests.test_output(output)"
   ]
  },
  {
   "cell_type": "markdown",
   "metadata": {
    "deletable": true,
    "editable": true
   },
   "source": [
    "### Create Convolutional Model\n",
    "Implement the function `conv_net` to create a convolutional neural network model. The function takes in a batch of images, `x`, and outputs logits.  Use the layers you created above to create this model:\n",
    "\n",
    "* Apply 1, 2, or 3 Convolution and Max Pool layers\n",
    "* Apply a Flatten Layer\n",
    "* Apply 1, 2, or 3 Fully Connected Layers\n",
    "* Apply an Output Layer\n",
    "* Return the output\n",
    "* Apply [TensorFlow's Dropout](https://www.tensorflow.org/api_docs/python/tf/nn/dropout) to one or more layers in the model using `keep_prob`. "
   ]
  },
  {
   "cell_type": "code",
   "execution_count": 12,
   "metadata": {
    "collapsed": false,
    "deletable": true,
    "editable": true
   },
   "outputs": [
    {
     "name": "stdout",
     "output_type": "stream",
     "text": [
      "Neural Network Built!\n"
     ]
    }
   ],
   "source": [
    "def conv_net(x, keep_prob):\n",
    "    \"\"\"\n",
    "    Create a convolutional neural network model\n",
    "    : x: Placeholder tensor that holds image data.\n",
    "    : keep_prob: Placeholder tensor that hold dropout keep probability.\n",
    "    : return: Tensor that represents logits\n",
    "    \"\"\"\n",
    "    # TODO: Apply 1, 2, or 3 Convolution and Max Pool layers\n",
    "    #    Play around with different number of outputs, kernel size and stride\n",
    "    # Function Definition from Above:\n",
    "    #    conv2d_maxpool(x_tensor, conv_num_outputs, conv_ksize, conv_strides, pool_ksize, pool_strides)\n",
    "    conv = [16,32,64]\n",
    "    num_output = 10\n",
    "    for i in range(3):\n",
    "        conv_layer = conv2d_maxpool(x, conv_num_outputs = conv[i], conv_ksize = [4, 4], conv_strides = [1, 1], pool_ksize = [2, 2], pool_strides = [2, 2])\n",
    "        dropout_layer = tf.nn.dropout(conv_layer, keep_prob)    \n",
    "\n",
    "    # TODO: Apply a Flatten Layer\n",
    "    # Function Definition from Above:\n",
    "    #   flatten(x_tensor)\n",
    "    flatten_layer = flatten(dropout_layer)\n",
    "\n",
    "    # TODO: Apply 1, 2, or 3 Fully Connected Layers\n",
    "    #    Play around with different number of outputs\n",
    "    # Function Definition from Above:\n",
    "    #   fully_conn(x_tensor, num_outputs)\n",
    "    for i in range(2):\n",
    "        fc = fully_conn(flatten_layer, num_output)\n",
    "        fc_drop = tf.nn.dropout(fc, keep_prob)\n",
    "    \n",
    "    # TODO: Apply an Output Layer\n",
    "    #    Set this to the number of classes\n",
    "    # Function Definition from Above:\n",
    "    #   output(x_tensor, num_outputs)\n",
    "    out_layer = output(fc_drop, num_output)\n",
    "    \n",
    "    # TODO: return output\n",
    "    return out_layer\n",
    "\n",
    "\n",
    "\"\"\"\n",
    "DON'T MODIFY ANYTHING IN THIS CELL THAT IS BELOW THIS LINE\n",
    "\"\"\"\n",
    "\n",
    "##############################\n",
    "## Build the Neural Network ##\n",
    "##############################\n",
    "\n",
    "# Remove previous weights, bias, inputs, etc..\n",
    "tf.reset_default_graph()\n",
    "\n",
    "# Inputs\n",
    "x = neural_net_image_input((32, 32, 3))\n",
    "y = neural_net_label_input(10)\n",
    "keep_prob = neural_net_keep_prob_input()\n",
    "\n",
    "# Model\n",
    "logits = conv_net(x, keep_prob)\n",
    "\n",
    "# Name logits Tensor, so that is can be loaded from disk after training\n",
    "logits = tf.identity(logits, name='logits')\n",
    "\n",
    "# Loss and Optimizer\n",
    "cost = tf.reduce_mean(tf.nn.softmax_cross_entropy_with_logits(logits=logits, labels=y))\n",
    "optimizer = tf.train.AdamOptimizer().minimize(cost)\n",
    "\n",
    "# Accuracy\n",
    "correct_pred = tf.equal(tf.argmax(logits, 1), tf.argmax(y, 1))\n",
    "accuracy = tf.reduce_mean(tf.cast(correct_pred, tf.float32), name='accuracy')\n",
    "\n",
    "tests.test_conv_net(conv_net)"
   ]
  },
  {
   "cell_type": "markdown",
   "metadata": {
    "deletable": true,
    "editable": true
   },
   "source": [
    "## Train the Neural Network\n",
    "### Single Optimization\n",
    "Implement the function `train_neural_network` to do a single optimization.  The optimization should use `optimizer` to optimize in `session` with a `feed_dict` of the following:\n",
    "* `x` for image input\n",
    "* `y` for labels\n",
    "* `keep_prob` for keep probability for dropout\n",
    "\n",
    "This function will be called for each batch, so `tf.global_variables_initializer()` has already been called.\n",
    "\n",
    "Note: Nothing needs to be returned. This function is only optimizing the neural network."
   ]
  },
  {
   "cell_type": "code",
   "execution_count": 13,
   "metadata": {
    "collapsed": false,
    "deletable": true,
    "editable": true
   },
   "outputs": [
    {
     "name": "stdout",
     "output_type": "stream",
     "text": [
      "Tests Passed\n"
     ]
    }
   ],
   "source": [
    "def train_neural_network(session, optimizer, keep_probability, feature_batch, label_batch):\n",
    "    \"\"\"\n",
    "    Optimize the session on a batch of images and labels\n",
    "    : session: Current TensorFlow session\n",
    "    : optimizer: TensorFlow optimizer function\n",
    "    : keep_probability: keep probability\n",
    "    : feature_batch: Batch of Numpy image data\n",
    "    : label_batch: Batch of Numpy label data\n",
    "    \"\"\"\n",
    "    # TODO: Implement Function\n",
    "    return session.run(optimizer, feed_dict={x:feature_batch,y:label_batch,keep_prob:keep_probability})\n",
    "\n",
    "\n",
    "\"\"\"\n",
    "DON'T MODIFY ANYTHING IN THIS CELL THAT IS BELOW THIS LINE\n",
    "\"\"\"\n",
    "tests.test_train_nn(train_neural_network)"
   ]
  },
  {
   "cell_type": "markdown",
   "metadata": {
    "deletable": true,
    "editable": true
   },
   "source": [
    "### Show Stats\n",
    "Implement the function `print_stats` to print loss and validation accuracy.  Use the global variables `valid_features` and `valid_labels` to calculate validation accuracy.  Use a keep probability of `1.0` to calculate the loss and validation accuracy."
   ]
  },
  {
   "cell_type": "code",
   "execution_count": 14,
   "metadata": {
    "collapsed": false,
    "deletable": true,
    "editable": true
   },
   "outputs": [],
   "source": [
    "def print_stats(session, feature_batch, label_batch, cost, accuracy):\n",
    "    \"\"\"\n",
    "    Print information about loss and validation accuracy\n",
    "    : session: Current TensorFlow session\n",
    "    : feature_batch: Batch of Numpy image data\n",
    "    : label_batch: Batch of Numpy label data\n",
    "    : cost: TensorFlow cost function\n",
    "    : accuracy: TensorFlow accuracy function\n",
    "    \"\"\"\n",
    "    loss = session.run(cost, feed_dict={x: feature_batch, y: label_batch, keep_prob: 1.})\n",
    "    valid_acc = session.run(accuracy, feed_dict={x: valid_features, y: valid_labels, keep_prob: 1.})\n",
    "    print('Loss: {:>10.4f}, Validation Accuracy: {:.6f}'.format(loss, valid_acc))\n",
    "    "
   ]
  },
  {
   "cell_type": "markdown",
   "metadata": {
    "deletable": true,
    "editable": true
   },
   "source": [
    "### Hyperparameters\n",
    "Tune the following parameters:\n",
    "* Set `epochs` to the number of iterations until the network stops learning or start overfitting\n",
    "* Set `batch_size` to the highest number that your machine has memory for.  Most people set them to common sizes of memory:\n",
    " * 64\n",
    " * 128\n",
    " * 256\n",
    " * ...\n",
    "* Set `keep_probability` to the probability of keeping a node using dropout"
   ]
  },
  {
   "cell_type": "code",
   "execution_count": 21,
   "metadata": {
    "collapsed": true,
    "deletable": true,
    "editable": true
   },
   "outputs": [],
   "source": [
    "# TODO: Tune Parameters\n",
    "epochs = 100\n",
    "batch_size = 256\n",
    "keep_probability = 0.8"
   ]
  },
  {
   "cell_type": "markdown",
   "metadata": {
    "deletable": true,
    "editable": true
   },
   "source": [
    "### Train on a Single CIFAR-10 Batch\n",
    "Instead of training the neural network on all the CIFAR-10 batches of data, let's use a single batch. This should save time while you iterate on the model to get a better accuracy.  Once the final validation accuracy is 50% or greater, run the model on all the data in the next section."
   ]
  },
  {
   "cell_type": "code",
   "execution_count": 20,
   "metadata": {
    "collapsed": false,
    "deletable": true,
    "editable": true
   },
   "outputs": [
    {
     "name": "stdout",
     "output_type": "stream",
     "text": [
      "Checking the Training on a Single Batch...\n",
      "Epoch  1, CIFAR-10 Batch 1:  Loss:     2.2286, Validation Accuracy: 0.254200\n",
      "Epoch  2, CIFAR-10 Batch 1:  Loss:     2.0658, Validation Accuracy: 0.330800\n",
      "Epoch  3, CIFAR-10 Batch 1:  Loss:     1.9518, Validation Accuracy: 0.382400\n",
      "Epoch  4, CIFAR-10 Batch 1:  Loss:     1.8568, Validation Accuracy: 0.400800\n",
      "Epoch  5, CIFAR-10 Batch 1:  Loss:     1.7360, Validation Accuracy: 0.439400\n",
      "Epoch  6, CIFAR-10 Batch 1:  Loss:     1.6174, Validation Accuracy: 0.448400\n",
      "Epoch  7, CIFAR-10 Batch 1:  Loss:     1.5175, Validation Accuracy: 0.450200\n",
      "Epoch  8, CIFAR-10 Batch 1:  Loss:     1.4125, Validation Accuracy: 0.462400\n",
      "Epoch  9, CIFAR-10 Batch 1:  Loss:     1.3588, Validation Accuracy: 0.476600\n",
      "Epoch 10, CIFAR-10 Batch 1:  Loss:     1.2616, Validation Accuracy: 0.477200\n",
      "Epoch 11, CIFAR-10 Batch 1:  Loss:     1.2247, Validation Accuracy: 0.478200\n",
      "Epoch 12, CIFAR-10 Batch 1:  Loss:     1.1667, Validation Accuracy: 0.494000\n",
      "Epoch 13, CIFAR-10 Batch 1:  Loss:     1.1075, Validation Accuracy: 0.487600\n",
      "Epoch 14, CIFAR-10 Batch 1:  Loss:     1.0751, Validation Accuracy: 0.496800\n",
      "Epoch 15, CIFAR-10 Batch 1:  Loss:     1.0263, Validation Accuracy: 0.497000\n",
      "Epoch 16, CIFAR-10 Batch 1:  Loss:     0.9970, Validation Accuracy: 0.502400\n",
      "Epoch 17, CIFAR-10 Batch 1:  Loss:     0.9677, Validation Accuracy: 0.500000\n",
      "Epoch 18, CIFAR-10 Batch 1:  Loss:     0.9007, Validation Accuracy: 0.511600\n",
      "Epoch 19, CIFAR-10 Batch 1:  Loss:     0.8695, Validation Accuracy: 0.506400\n",
      "Epoch 20, CIFAR-10 Batch 1:  Loss:     0.8622, Validation Accuracy: 0.504600\n",
      "Epoch 21, CIFAR-10 Batch 1:  Loss:     0.8237, Validation Accuracy: 0.508800\n",
      "Epoch 22, CIFAR-10 Batch 1:  Loss:     0.7923, Validation Accuracy: 0.506400\n",
      "Epoch 23, CIFAR-10 Batch 1:  Loss:     0.7692, Validation Accuracy: 0.514800\n",
      "Epoch 24, CIFAR-10 Batch 1:  Loss:     0.7133, Validation Accuracy: 0.516800\n",
      "Epoch 25, CIFAR-10 Batch 1:  Loss:     0.6919, Validation Accuracy: 0.523600\n",
      "Epoch 26, CIFAR-10 Batch 1:  Loss:     0.6847, Validation Accuracy: 0.525200\n",
      "Epoch 27, CIFAR-10 Batch 1:  Loss:     0.6453, Validation Accuracy: 0.533400\n",
      "Epoch 28, CIFAR-10 Batch 1:  Loss:     0.6315, Validation Accuracy: 0.532800\n",
      "Epoch 29, CIFAR-10 Batch 1:  Loss:     0.6134, Validation Accuracy: 0.534200\n"
     ]
    }
   ],
   "source": [
    "\"\"\"\n",
    "DON'T MODIFY ANYTHING IN THIS CELL\n",
    "\"\"\"\n",
    "print('Checking the Training on a Single Batch...')\n",
    "with tf.Session() as sess:\n",
    "    # Initializing the variables\n",
    "    sess.run(tf.global_variables_initializer())\n",
    "    \n",
    "    # Training cycle\n",
    "    for epoch in range(epochs):\n",
    "        batch_i = 1\n",
    "        for batch_features, batch_labels in helper.load_preprocess_training_batch(batch_i, batch_size):\n",
    "            train_neural_network(sess, optimizer, keep_probability, batch_features, batch_labels)\n",
    "        print('Epoch {:>2}, CIFAR-10 Batch {}:  '.format(epoch + 1, batch_i), end='')\n",
    "        print_stats(sess, batch_features, batch_labels, cost, accuracy)"
   ]
  },
  {
   "cell_type": "markdown",
   "metadata": {
    "deletable": true,
    "editable": true
   },
   "source": [
    "### Fully Train the Model\n",
    "Now that you got a good accuracy with a single CIFAR-10 batch, try it with all five batches."
   ]
  },
  {
   "cell_type": "code",
   "execution_count": 22,
   "metadata": {
    "collapsed": false,
    "deletable": true,
    "editable": true
   },
   "outputs": [
    {
     "name": "stdout",
     "output_type": "stream",
     "text": [
      "Training...\n",
      "Epoch  1, CIFAR-10 Batch 1:  Loss:     2.1600, Validation Accuracy: 0.277000\n",
      "Epoch  1, CIFAR-10 Batch 2:  Loss:     1.9260, Validation Accuracy: 0.320200\n",
      "Epoch  1, CIFAR-10 Batch 3:  Loss:     1.6940, Validation Accuracy: 0.347800\n",
      "Epoch  1, CIFAR-10 Batch 4:  Loss:     1.6926, Validation Accuracy: 0.385400\n",
      "Epoch  1, CIFAR-10 Batch 5:  Loss:     1.7137, Validation Accuracy: 0.408600\n",
      "Epoch  2, CIFAR-10 Batch 1:  Loss:     1.9238, Validation Accuracy: 0.436000\n",
      "Epoch  2, CIFAR-10 Batch 2:  Loss:     1.5523, Validation Accuracy: 0.448200\n",
      "Epoch  2, CIFAR-10 Batch 3:  Loss:     1.2915, Validation Accuracy: 0.445600\n",
      "Epoch  2, CIFAR-10 Batch 4:  Loss:     1.4350, Validation Accuracy: 0.477600\n",
      "Epoch  2, CIFAR-10 Batch 5:  Loss:     1.4683, Validation Accuracy: 0.495600\n",
      "Epoch  3, CIFAR-10 Batch 1:  Loss:     1.6057, Validation Accuracy: 0.506400\n",
      "Epoch  3, CIFAR-10 Batch 2:  Loss:     1.3372, Validation Accuracy: 0.506400\n",
      "Epoch  3, CIFAR-10 Batch 3:  Loss:     1.1147, Validation Accuracy: 0.504600\n",
      "Epoch  3, CIFAR-10 Batch 4:  Loss:     1.3111, Validation Accuracy: 0.511600\n",
      "Epoch  3, CIFAR-10 Batch 5:  Loss:     1.3357, Validation Accuracy: 0.525200\n",
      "Epoch  4, CIFAR-10 Batch 1:  Loss:     1.4757, Validation Accuracy: 0.523800\n",
      "Epoch  4, CIFAR-10 Batch 2:  Loss:     1.1710, Validation Accuracy: 0.533000\n",
      "Epoch  4, CIFAR-10 Batch 3:  Loss:     0.9556, Validation Accuracy: 0.533400\n",
      "Epoch  4, CIFAR-10 Batch 4:  Loss:     1.2657, Validation Accuracy: 0.520800\n",
      "Epoch  4, CIFAR-10 Batch 5:  Loss:     1.2670, Validation Accuracy: 0.539400\n",
      "Epoch  5, CIFAR-10 Batch 1:  Loss:     1.3798, Validation Accuracy: 0.542000\n",
      "Epoch  5, CIFAR-10 Batch 2:  Loss:     1.0589, Validation Accuracy: 0.546200\n",
      "Epoch  5, CIFAR-10 Batch 3:  Loss:     0.8994, Validation Accuracy: 0.546600\n",
      "Epoch  5, CIFAR-10 Batch 4:  Loss:     1.1264, Validation Accuracy: 0.548200\n",
      "Epoch  5, CIFAR-10 Batch 5:  Loss:     1.1935, Validation Accuracy: 0.547200\n",
      "Epoch  6, CIFAR-10 Batch 1:  Loss:     1.2819, Validation Accuracy: 0.548800\n",
      "Epoch  6, CIFAR-10 Batch 2:  Loss:     0.9928, Validation Accuracy: 0.555000\n",
      "Epoch  6, CIFAR-10 Batch 3:  Loss:     0.8547, Validation Accuracy: 0.558200\n",
      "Epoch  6, CIFAR-10 Batch 4:  Loss:     1.0526, Validation Accuracy: 0.560200\n",
      "Epoch  6, CIFAR-10 Batch 5:  Loss:     1.1124, Validation Accuracy: 0.560200\n",
      "Epoch  7, CIFAR-10 Batch 1:  Loss:     1.1750, Validation Accuracy: 0.555800\n",
      "Epoch  7, CIFAR-10 Batch 2:  Loss:     0.9332, Validation Accuracy: 0.567000\n",
      "Epoch  7, CIFAR-10 Batch 3:  Loss:     0.7890, Validation Accuracy: 0.567000\n",
      "Epoch  7, CIFAR-10 Batch 4:  Loss:     0.9820, Validation Accuracy: 0.573400\n",
      "Epoch  7, CIFAR-10 Batch 5:  Loss:     1.0544, Validation Accuracy: 0.573600\n",
      "Epoch  8, CIFAR-10 Batch 1:  Loss:     1.1110, Validation Accuracy: 0.579000\n",
      "Epoch  8, CIFAR-10 Batch 2:  Loss:     0.8535, Validation Accuracy: 0.579800\n",
      "Epoch  8, CIFAR-10 Batch 3:  Loss:     0.7201, Validation Accuracy: 0.584800\n",
      "Epoch  8, CIFAR-10 Batch 4:  Loss:     0.9430, Validation Accuracy: 0.577000\n",
      "Epoch  8, CIFAR-10 Batch 5:  Loss:     0.9648, Validation Accuracy: 0.583800\n",
      "Epoch  9, CIFAR-10 Batch 1:  Loss:     1.0626, Validation Accuracy: 0.576400\n",
      "Epoch  9, CIFAR-10 Batch 2:  Loss:     0.8033, Validation Accuracy: 0.587200\n",
      "Epoch  9, CIFAR-10 Batch 3:  Loss:     0.7058, Validation Accuracy: 0.590400\n",
      "Epoch  9, CIFAR-10 Batch 4:  Loss:     0.8593, Validation Accuracy: 0.592800\n",
      "Epoch  9, CIFAR-10 Batch 5:  Loss:     0.9191, Validation Accuracy: 0.579200\n",
      "Epoch 10, CIFAR-10 Batch 1:  Loss:     1.0771, Validation Accuracy: 0.585800\n",
      "Epoch 10, CIFAR-10 Batch 2:  Loss:     0.7816, Validation Accuracy: 0.593200\n",
      "Epoch 10, CIFAR-10 Batch 3:  Loss:     0.6658, Validation Accuracy: 0.598200\n",
      "Epoch 10, CIFAR-10 Batch 4:  Loss:     0.8061, Validation Accuracy: 0.597800\n",
      "Epoch 10, CIFAR-10 Batch 5:  Loss:     0.8518, Validation Accuracy: 0.585200\n",
      "Epoch 11, CIFAR-10 Batch 1:  Loss:     0.9559, Validation Accuracy: 0.590400\n",
      "Epoch 11, CIFAR-10 Batch 2:  Loss:     0.7358, Validation Accuracy: 0.606400\n",
      "Epoch 11, CIFAR-10 Batch 3:  Loss:     0.6494, Validation Accuracy: 0.604400\n",
      "Epoch 11, CIFAR-10 Batch 4:  Loss:     0.7615, Validation Accuracy: 0.606400\n",
      "Epoch 11, CIFAR-10 Batch 5:  Loss:     0.8256, Validation Accuracy: 0.591200\n",
      "Epoch 12, CIFAR-10 Batch 1:  Loss:     0.8988, Validation Accuracy: 0.595800\n",
      "Epoch 12, CIFAR-10 Batch 2:  Loss:     0.7351, Validation Accuracy: 0.611000\n",
      "Epoch 12, CIFAR-10 Batch 3:  Loss:     0.6308, Validation Accuracy: 0.611000\n",
      "Epoch 12, CIFAR-10 Batch 4:  Loss:     0.7317, Validation Accuracy: 0.615800\n",
      "Epoch 12, CIFAR-10 Batch 5:  Loss:     0.7789, Validation Accuracy: 0.591200\n",
      "Epoch 13, CIFAR-10 Batch 1:  Loss:     0.8578, Validation Accuracy: 0.594200\n",
      "Epoch 13, CIFAR-10 Batch 2:  Loss:     0.6641, Validation Accuracy: 0.617800\n",
      "Epoch 13, CIFAR-10 Batch 3:  Loss:     0.5867, Validation Accuracy: 0.612200\n",
      "Epoch 13, CIFAR-10 Batch 4:  Loss:     0.7253, Validation Accuracy: 0.612400\n",
      "Epoch 13, CIFAR-10 Batch 5:  Loss:     0.7113, Validation Accuracy: 0.608000\n",
      "Epoch 14, CIFAR-10 Batch 1:  Loss:     0.8433, Validation Accuracy: 0.612600\n",
      "Epoch 14, CIFAR-10 Batch 2:  Loss:     0.6419, Validation Accuracy: 0.623400\n",
      "Epoch 14, CIFAR-10 Batch 3:  Loss:     0.5883, Validation Accuracy: 0.601800\n",
      "Epoch 14, CIFAR-10 Batch 4:  Loss:     0.6881, Validation Accuracy: 0.618000\n",
      "Epoch 14, CIFAR-10 Batch 5:  Loss:     0.6677, Validation Accuracy: 0.614200\n",
      "Epoch 15, CIFAR-10 Batch 1:  Loss:     0.8163, Validation Accuracy: 0.603200\n",
      "Epoch 15, CIFAR-10 Batch 2:  Loss:     0.6133, Validation Accuracy: 0.621600\n",
      "Epoch 15, CIFAR-10 Batch 3:  Loss:     0.5296, Validation Accuracy: 0.610600\n",
      "Epoch 15, CIFAR-10 Batch 4:  Loss:     0.6679, Validation Accuracy: 0.621000\n",
      "Epoch 15, CIFAR-10 Batch 5:  Loss:     0.6422, Validation Accuracy: 0.613000\n",
      "Epoch 16, CIFAR-10 Batch 1:  Loss:     0.7648, Validation Accuracy: 0.612200\n",
      "Epoch 16, CIFAR-10 Batch 2:  Loss:     0.5872, Validation Accuracy: 0.620400\n",
      "Epoch 16, CIFAR-10 Batch 3:  Loss:     0.5254, Validation Accuracy: 0.614200\n",
      "Epoch 16, CIFAR-10 Batch 4:  Loss:     0.6071, Validation Accuracy: 0.629400\n",
      "Epoch 16, CIFAR-10 Batch 5:  Loss:     0.6022, Validation Accuracy: 0.629600\n",
      "Epoch 17, CIFAR-10 Batch 1:  Loss:     0.7537, Validation Accuracy: 0.619000\n",
      "Epoch 17, CIFAR-10 Batch 2:  Loss:     0.5372, Validation Accuracy: 0.629200\n",
      "Epoch 17, CIFAR-10 Batch 3:  Loss:     0.5030, Validation Accuracy: 0.626000\n",
      "Epoch 17, CIFAR-10 Batch 4:  Loss:     0.5971, Validation Accuracy: 0.634600\n",
      "Epoch 17, CIFAR-10 Batch 5:  Loss:     0.5742, Validation Accuracy: 0.628800\n",
      "Epoch 18, CIFAR-10 Batch 1:  Loss:     0.7016, Validation Accuracy: 0.616400\n",
      "Epoch 18, CIFAR-10 Batch 2:  Loss:     0.5637, Validation Accuracy: 0.639000\n",
      "Epoch 18, CIFAR-10 Batch 3:  Loss:     0.4637, Validation Accuracy: 0.618800\n",
      "Epoch 18, CIFAR-10 Batch 4:  Loss:     0.5676, Validation Accuracy: 0.638400\n",
      "Epoch 18, CIFAR-10 Batch 5:  Loss:     0.5468, Validation Accuracy: 0.623200\n",
      "Epoch 19, CIFAR-10 Batch 1:  Loss:     0.6760, Validation Accuracy: 0.621800\n",
      "Epoch 19, CIFAR-10 Batch 2:  Loss:     0.5154, Validation Accuracy: 0.635800\n",
      "Epoch 19, CIFAR-10 Batch 3:  Loss:     0.4658, Validation Accuracy: 0.624200\n",
      "Epoch 19, CIFAR-10 Batch 4:  Loss:     0.5533, Validation Accuracy: 0.634800\n",
      "Epoch 19, CIFAR-10 Batch 5:  Loss:     0.5354, Validation Accuracy: 0.632000\n",
      "Epoch 20, CIFAR-10 Batch 1:  Loss:     0.6617, Validation Accuracy: 0.623200\n",
      "Epoch 20, CIFAR-10 Batch 2:  Loss:     0.5006, Validation Accuracy: 0.636200\n",
      "Epoch 20, CIFAR-10 Batch 3:  Loss:     0.4586, Validation Accuracy: 0.632000\n",
      "Epoch 20, CIFAR-10 Batch 4:  Loss:     0.5332, Validation Accuracy: 0.637600\n",
      "Epoch 20, CIFAR-10 Batch 5:  Loss:     0.5162, Validation Accuracy: 0.640000\n",
      "Epoch 21, CIFAR-10 Batch 1:  Loss:     0.6337, Validation Accuracy: 0.629600\n",
      "Epoch 21, CIFAR-10 Batch 2:  Loss:     0.4788, Validation Accuracy: 0.645000\n",
      "Epoch 21, CIFAR-10 Batch 3:  Loss:     0.4294, Validation Accuracy: 0.635600\n",
      "Epoch 21, CIFAR-10 Batch 4:  Loss:     0.5158, Validation Accuracy: 0.636400\n",
      "Epoch 21, CIFAR-10 Batch 5:  Loss:     0.4897, Validation Accuracy: 0.643600\n",
      "Epoch 22, CIFAR-10 Batch 1:  Loss:     0.6089, Validation Accuracy: 0.638800\n",
      "Epoch 22, CIFAR-10 Batch 2:  Loss:     0.4565, Validation Accuracy: 0.638600\n",
      "Epoch 22, CIFAR-10 Batch 3:  Loss:     0.4158, Validation Accuracy: 0.641400\n",
      "Epoch 22, CIFAR-10 Batch 4:  Loss:     0.4671, Validation Accuracy: 0.635200\n",
      "Epoch 22, CIFAR-10 Batch 5:  Loss:     0.4586, Validation Accuracy: 0.645600\n",
      "Epoch 23, CIFAR-10 Batch 1:  Loss:     0.6077, Validation Accuracy: 0.619800\n",
      "Epoch 23, CIFAR-10 Batch 2:  Loss:     0.4573, Validation Accuracy: 0.649600\n",
      "Epoch 23, CIFAR-10 Batch 3:  Loss:     0.3922, Validation Accuracy: 0.647000\n",
      "Epoch 23, CIFAR-10 Batch 4:  Loss:     0.4370, Validation Accuracy: 0.646200\n",
      "Epoch 23, CIFAR-10 Batch 5:  Loss:     0.4781, Validation Accuracy: 0.645200\n",
      "Epoch 24, CIFAR-10 Batch 1:  Loss:     0.5767, Validation Accuracy: 0.642600\n",
      "Epoch 24, CIFAR-10 Batch 2:  Loss:     0.4411, Validation Accuracy: 0.643000\n",
      "Epoch 24, CIFAR-10 Batch 3:  Loss:     0.3911, Validation Accuracy: 0.636600\n",
      "Epoch 24, CIFAR-10 Batch 4:  Loss:     0.4216, Validation Accuracy: 0.644000\n",
      "Epoch 24, CIFAR-10 Batch 5:  Loss:     0.4576, Validation Accuracy: 0.646600\n",
      "Epoch 25, CIFAR-10 Batch 1:  Loss:     0.5609, Validation Accuracy: 0.628200\n",
      "Epoch 25, CIFAR-10 Batch 2:  Loss:     0.3916, Validation Accuracy: 0.648200\n",
      "Epoch 25, CIFAR-10 Batch 3:  Loss:     0.3686, Validation Accuracy: 0.646600\n",
      "Epoch 25, CIFAR-10 Batch 4:  Loss:     0.4313, Validation Accuracy: 0.644000\n",
      "Epoch 25, CIFAR-10 Batch 5:  Loss:     0.4123, Validation Accuracy: 0.646600\n",
      "Epoch 26, CIFAR-10 Batch 1:  Loss:     0.5181, Validation Accuracy: 0.627600\n",
      "Epoch 26, CIFAR-10 Batch 2:  Loss:     0.3927, Validation Accuracy: 0.647600\n",
      "Epoch 26, CIFAR-10 Batch 3:  Loss:     0.3536, Validation Accuracy: 0.649600\n",
      "Epoch 26, CIFAR-10 Batch 4:  Loss:     0.3943, Validation Accuracy: 0.647000\n",
      "Epoch 26, CIFAR-10 Batch 5:  Loss:     0.4106, Validation Accuracy: 0.647600\n",
      "Epoch 27, CIFAR-10 Batch 1:  Loss:     0.4723, Validation Accuracy: 0.638000\n",
      "Epoch 27, CIFAR-10 Batch 2:  Loss:     0.3827, Validation Accuracy: 0.654400\n",
      "Epoch 27, CIFAR-10 Batch 3:  Loss:     0.3400, Validation Accuracy: 0.644400\n",
      "Epoch 27, CIFAR-10 Batch 4:  Loss:     0.3830, Validation Accuracy: 0.650800\n",
      "Epoch 27, CIFAR-10 Batch 5:  Loss:     0.4016, Validation Accuracy: 0.646200\n",
      "Epoch 28, CIFAR-10 Batch 1:  Loss:     0.4680, Validation Accuracy: 0.638000\n",
      "Epoch 28, CIFAR-10 Batch 2:  Loss:     0.3670, Validation Accuracy: 0.649800\n",
      "Epoch 28, CIFAR-10 Batch 3:  Loss:     0.3441, Validation Accuracy: 0.639600\n",
      "Epoch 28, CIFAR-10 Batch 4:  Loss:     0.3739, Validation Accuracy: 0.654600\n",
      "Epoch 28, CIFAR-10 Batch 5:  Loss:     0.3911, Validation Accuracy: 0.648000\n",
      "Epoch 29, CIFAR-10 Batch 1:  Loss:     0.4660, Validation Accuracy: 0.646800\n",
      "Epoch 29, CIFAR-10 Batch 2:  Loss:     0.3446, Validation Accuracy: 0.654200\n",
      "Epoch 29, CIFAR-10 Batch 3:  Loss:     0.3386, Validation Accuracy: 0.653800\n",
      "Epoch 29, CIFAR-10 Batch 4:  Loss:     0.3897, Validation Accuracy: 0.644600\n",
      "Epoch 29, CIFAR-10 Batch 5:  Loss:     0.3749, Validation Accuracy: 0.648400\n",
      "Epoch 30, CIFAR-10 Batch 1:  Loss:     0.4429, Validation Accuracy: 0.644400\n",
      "Epoch 30, CIFAR-10 Batch 2:  Loss:     0.3366, Validation Accuracy: 0.649200\n",
      "Epoch 30, CIFAR-10 Batch 3:  Loss:     0.3231, Validation Accuracy: 0.653800\n",
      "Epoch 30, CIFAR-10 Batch 4:  Loss:     0.3444, Validation Accuracy: 0.652200\n",
      "Epoch 30, CIFAR-10 Batch 5:  Loss:     0.3740, Validation Accuracy: 0.659000\n",
      "Epoch 31, CIFAR-10 Batch 1:  Loss:     0.4318, Validation Accuracy: 0.652200\n",
      "Epoch 31, CIFAR-10 Batch 2:  Loss:     0.3184, Validation Accuracy: 0.652400\n",
      "Epoch 31, CIFAR-10 Batch 3:  Loss:     0.3104, Validation Accuracy: 0.655800\n",
      "Epoch 31, CIFAR-10 Batch 4:  Loss:     0.3219, Validation Accuracy: 0.652000\n",
      "Epoch 31, CIFAR-10 Batch 5:  Loss:     0.3687, Validation Accuracy: 0.658600\n",
      "Epoch 32, CIFAR-10 Batch 1:  Loss:     0.4338, Validation Accuracy: 0.632600\n",
      "Epoch 32, CIFAR-10 Batch 2:  Loss:     0.3265, Validation Accuracy: 0.644600\n",
      "Epoch 32, CIFAR-10 Batch 3:  Loss:     0.2816, Validation Accuracy: 0.650800\n",
      "Epoch 32, CIFAR-10 Batch 4:  Loss:     0.3056, Validation Accuracy: 0.650800\n",
      "Epoch 32, CIFAR-10 Batch 5:  Loss:     0.3568, Validation Accuracy: 0.643800\n",
      "Epoch 33, CIFAR-10 Batch 1:  Loss:     0.4218, Validation Accuracy: 0.644200\n",
      "Epoch 33, CIFAR-10 Batch 2:  Loss:     0.2988, Validation Accuracy: 0.651400\n",
      "Epoch 33, CIFAR-10 Batch 3:  Loss:     0.2841, Validation Accuracy: 0.650400\n",
      "Epoch 33, CIFAR-10 Batch 4:  Loss:     0.3036, Validation Accuracy: 0.655000\n",
      "Epoch 33, CIFAR-10 Batch 5:  Loss:     0.3434, Validation Accuracy: 0.652000\n",
      "Epoch 34, CIFAR-10 Batch 1:  Loss:     0.4212, Validation Accuracy: 0.643000\n",
      "Epoch 34, CIFAR-10 Batch 2:  Loss:     0.3021, Validation Accuracy: 0.655400\n",
      "Epoch 34, CIFAR-10 Batch 3:  Loss:     0.2644, Validation Accuracy: 0.650000\n",
      "Epoch 34, CIFAR-10 Batch 4:  Loss:     0.2924, Validation Accuracy: 0.655000\n",
      "Epoch 34, CIFAR-10 Batch 5:  Loss:     0.3423, Validation Accuracy: 0.648400\n",
      "Epoch 35, CIFAR-10 Batch 1:  Loss:     0.3846, Validation Accuracy: 0.650000\n",
      "Epoch 35, CIFAR-10 Batch 2:  Loss:     0.2959, Validation Accuracy: 0.654400\n",
      "Epoch 35, CIFAR-10 Batch 3:  Loss:     0.2764, Validation Accuracy: 0.652200\n",
      "Epoch 35, CIFAR-10 Batch 4:  Loss:     0.2801, Validation Accuracy: 0.653400\n",
      "Epoch 35, CIFAR-10 Batch 5:  Loss:     0.3284, Validation Accuracy: 0.658000\n",
      "Epoch 36, CIFAR-10 Batch 1:  Loss:     0.3718, Validation Accuracy: 0.651200\n",
      "Epoch 36, CIFAR-10 Batch 2:  Loss:     0.2529, Validation Accuracy: 0.657400\n",
      "Epoch 36, CIFAR-10 Batch 3:  Loss:     0.2579, Validation Accuracy: 0.651600\n",
      "Epoch 36, CIFAR-10 Batch 4:  Loss:     0.2642, Validation Accuracy: 0.658000\n",
      "Epoch 36, CIFAR-10 Batch 5:  Loss:     0.2883, Validation Accuracy: 0.659400\n",
      "Epoch 37, CIFAR-10 Batch 1:  Loss:     0.3692, Validation Accuracy: 0.649400\n",
      "Epoch 37, CIFAR-10 Batch 2:  Loss:     0.2553, Validation Accuracy: 0.653800\n",
      "Epoch 37, CIFAR-10 Batch 3:  Loss:     0.2585, Validation Accuracy: 0.654200\n",
      "Epoch 37, CIFAR-10 Batch 4:  Loss:     0.2783, Validation Accuracy: 0.652400\n",
      "Epoch 37, CIFAR-10 Batch 5:  Loss:     0.3031, Validation Accuracy: 0.653000\n",
      "Epoch 38, CIFAR-10 Batch 1:  Loss:     0.3463, Validation Accuracy: 0.653800\n",
      "Epoch 38, CIFAR-10 Batch 2:  Loss:     0.2582, Validation Accuracy: 0.657400\n",
      "Epoch 38, CIFAR-10 Batch 3:  Loss:     0.2434, Validation Accuracy: 0.657200\n",
      "Epoch 38, CIFAR-10 Batch 4:  Loss:     0.2633, Validation Accuracy: 0.657400\n",
      "Epoch 38, CIFAR-10 Batch 5:  Loss:     0.2931, Validation Accuracy: 0.656200\n",
      "Epoch 39, CIFAR-10 Batch 1:  Loss:     0.3565, Validation Accuracy: 0.652000\n",
      "Epoch 39, CIFAR-10 Batch 2:  Loss:     0.2536, Validation Accuracy: 0.649400\n",
      "Epoch 39, CIFAR-10 Batch 3:  Loss:     0.2430, Validation Accuracy: 0.659800\n",
      "Epoch 39, CIFAR-10 Batch 4:  Loss:     0.2678, Validation Accuracy: 0.647400\n",
      "Epoch 39, CIFAR-10 Batch 5:  Loss:     0.3035, Validation Accuracy: 0.648400\n",
      "Epoch 40, CIFAR-10 Batch 1:  Loss:     0.3271, Validation Accuracy: 0.655400\n",
      "Epoch 40, CIFAR-10 Batch 2:  Loss:     0.2359, Validation Accuracy: 0.653800\n",
      "Epoch 40, CIFAR-10 Batch 3:  Loss:     0.2208, Validation Accuracy: 0.655200\n",
      "Epoch 40, CIFAR-10 Batch 4:  Loss:     0.2514, Validation Accuracy: 0.655800\n",
      "Epoch 40, CIFAR-10 Batch 5:  Loss:     0.2824, Validation Accuracy: 0.664000\n",
      "Epoch 41, CIFAR-10 Batch 1:  Loss:     0.3348, Validation Accuracy: 0.645800\n",
      "Epoch 41, CIFAR-10 Batch 2:  Loss:     0.2248, Validation Accuracy: 0.658800\n",
      "Epoch 41, CIFAR-10 Batch 3:  Loss:     0.2205, Validation Accuracy: 0.660600\n",
      "Epoch 41, CIFAR-10 Batch 4:  Loss:     0.2618, Validation Accuracy: 0.650800\n",
      "Epoch 41, CIFAR-10 Batch 5:  Loss:     0.3075, Validation Accuracy: 0.653600\n",
      "Epoch 42, CIFAR-10 Batch 1:  Loss:     0.2969, Validation Accuracy: 0.651600\n",
      "Epoch 42, CIFAR-10 Batch 2:  Loss:     0.2336, Validation Accuracy: 0.657200\n",
      "Epoch 42, CIFAR-10 Batch 3:  Loss:     0.2355, Validation Accuracy: 0.650600\n",
      "Epoch 42, CIFAR-10 Batch 4:  Loss:     0.2413, Validation Accuracy: 0.661400\n",
      "Epoch 42, CIFAR-10 Batch 5:  Loss:     0.2692, Validation Accuracy: 0.658600\n",
      "Epoch 43, CIFAR-10 Batch 1:  Loss:     0.3187, Validation Accuracy: 0.644600\n",
      "Epoch 43, CIFAR-10 Batch 2:  Loss:     0.2302, Validation Accuracy: 0.651000\n",
      "Epoch 43, CIFAR-10 Batch 3:  Loss:     0.1997, Validation Accuracy: 0.653600\n",
      "Epoch 43, CIFAR-10 Batch 4:  Loss:     0.2449, Validation Accuracy: 0.658800\n",
      "Epoch 43, CIFAR-10 Batch 5:  Loss:     0.2566, Validation Accuracy: 0.661200\n",
      "Epoch 44, CIFAR-10 Batch 1:  Loss:     0.3077, Validation Accuracy: 0.654800\n",
      "Epoch 44, CIFAR-10 Batch 2:  Loss:     0.2157, Validation Accuracy: 0.655200\n",
      "Epoch 44, CIFAR-10 Batch 3:  Loss:     0.2042, Validation Accuracy: 0.648600\n",
      "Epoch 44, CIFAR-10 Batch 4:  Loss:     0.2282, Validation Accuracy: 0.657800\n",
      "Epoch 44, CIFAR-10 Batch 5:  Loss:     0.2532, Validation Accuracy: 0.651800\n",
      "Epoch 45, CIFAR-10 Batch 1:  Loss:     0.3028, Validation Accuracy: 0.655400\n",
      "Epoch 45, CIFAR-10 Batch 2:  Loss:     0.2050, Validation Accuracy: 0.653600\n",
      "Epoch 45, CIFAR-10 Batch 3:  Loss:     0.2009, Validation Accuracy: 0.659800\n",
      "Epoch 45, CIFAR-10 Batch 4:  Loss:     0.2718, Validation Accuracy: 0.647800\n",
      "Epoch 45, CIFAR-10 Batch 5:  Loss:     0.2536, Validation Accuracy: 0.659000\n",
      "Epoch 46, CIFAR-10 Batch 1:  Loss:     0.2807, Validation Accuracy: 0.657000\n",
      "Epoch 46, CIFAR-10 Batch 2:  Loss:     0.2314, Validation Accuracy: 0.651400\n",
      "Epoch 46, CIFAR-10 Batch 3:  Loss:     0.1888, Validation Accuracy: 0.652400\n",
      "Epoch 46, CIFAR-10 Batch 4:  Loss:     0.2355, Validation Accuracy: 0.663200\n",
      "Epoch 46, CIFAR-10 Batch 5:  Loss:     0.2718, Validation Accuracy: 0.649000\n",
      "Epoch 47, CIFAR-10 Batch 1:  Loss:     0.2808, Validation Accuracy: 0.660400\n",
      "Epoch 47, CIFAR-10 Batch 2:  Loss:     0.2166, Validation Accuracy: 0.650800\n",
      "Epoch 47, CIFAR-10 Batch 3:  Loss:     0.1819, Validation Accuracy: 0.654000\n",
      "Epoch 47, CIFAR-10 Batch 4:  Loss:     0.2249, Validation Accuracy: 0.659600\n",
      "Epoch 47, CIFAR-10 Batch 5:  Loss:     0.2273, Validation Accuracy: 0.656800\n",
      "Epoch 48, CIFAR-10 Batch 1:  Loss:     0.2790, Validation Accuracy: 0.647000\n",
      "Epoch 48, CIFAR-10 Batch 2:  Loss:     0.2040, Validation Accuracy: 0.654400\n",
      "Epoch 48, CIFAR-10 Batch 3:  Loss:     0.1874, Validation Accuracy: 0.654400\n",
      "Epoch 48, CIFAR-10 Batch 4:  Loss:     0.2301, Validation Accuracy: 0.655800\n",
      "Epoch 48, CIFAR-10 Batch 5:  Loss:     0.2431, Validation Accuracy: 0.657400\n",
      "Epoch 49, CIFAR-10 Batch 1:  Loss:     0.2858, Validation Accuracy: 0.652000\n",
      "Epoch 49, CIFAR-10 Batch 2:  Loss:     0.2059, Validation Accuracy: 0.648600\n",
      "Epoch 49, CIFAR-10 Batch 3:  Loss:     0.1805, Validation Accuracy: 0.661600\n",
      "Epoch 49, CIFAR-10 Batch 4:  Loss:     0.2271, Validation Accuracy: 0.658400\n",
      "Epoch 49, CIFAR-10 Batch 5:  Loss:     0.2211, Validation Accuracy: 0.668000\n",
      "Epoch 50, CIFAR-10 Batch 1:  Loss:     0.2677, Validation Accuracy: 0.660400\n",
      "Epoch 50, CIFAR-10 Batch 2:  Loss:     0.2045, Validation Accuracy: 0.662200\n",
      "Epoch 50, CIFAR-10 Batch 3:  Loss:     0.1951, Validation Accuracy: 0.651600\n",
      "Epoch 50, CIFAR-10 Batch 4:  Loss:     0.2081, Validation Accuracy: 0.661800\n",
      "Epoch 50, CIFAR-10 Batch 5:  Loss:     0.2163, Validation Accuracy: 0.659600\n",
      "Epoch 51, CIFAR-10 Batch 1:  Loss:     0.2555, Validation Accuracy: 0.658600\n",
      "Epoch 51, CIFAR-10 Batch 2:  Loss:     0.2217, Validation Accuracy: 0.656000\n",
      "Epoch 51, CIFAR-10 Batch 3:  Loss:     0.1852, Validation Accuracy: 0.663800\n",
      "Epoch 51, CIFAR-10 Batch 4:  Loss:     0.1995, Validation Accuracy: 0.666200\n",
      "Epoch 51, CIFAR-10 Batch 5:  Loss:     0.2415, Validation Accuracy: 0.659800\n",
      "Epoch 52, CIFAR-10 Batch 1:  Loss:     0.2623, Validation Accuracy: 0.669400\n",
      "Epoch 52, CIFAR-10 Batch 2:  Loss:     0.2172, Validation Accuracy: 0.659800\n",
      "Epoch 52, CIFAR-10 Batch 3:  Loss:     0.1687, Validation Accuracy: 0.655400\n",
      "Epoch 52, CIFAR-10 Batch 4:  Loss:     0.2120, Validation Accuracy: 0.658000\n",
      "Epoch 52, CIFAR-10 Batch 5:  Loss:     0.2164, Validation Accuracy: 0.657000\n",
      "Epoch 53, CIFAR-10 Batch 1:  Loss:     0.2637, Validation Accuracy: 0.657200\n",
      "Epoch 53, CIFAR-10 Batch 2:  Loss:     0.2179, Validation Accuracy: 0.653200\n",
      "Epoch 53, CIFAR-10 Batch 3:  Loss:     0.1831, Validation Accuracy: 0.650600\n",
      "Epoch 53, CIFAR-10 Batch 4:  Loss:     0.2089, Validation Accuracy: 0.657400\n",
      "Epoch 53, CIFAR-10 Batch 5:  Loss:     0.2177, Validation Accuracy: 0.664200\n",
      "Epoch 54, CIFAR-10 Batch 1:  Loss:     0.2414, Validation Accuracy: 0.658800\n",
      "Epoch 54, CIFAR-10 Batch 2:  Loss:     0.2164, Validation Accuracy: 0.654200\n",
      "Epoch 54, CIFAR-10 Batch 3:  Loss:     0.1611, Validation Accuracy: 0.635800\n",
      "Epoch 54, CIFAR-10 Batch 4:  Loss:     0.2137, Validation Accuracy: 0.658600\n",
      "Epoch 54, CIFAR-10 Batch 5:  Loss:     0.2147, Validation Accuracy: 0.656800\n",
      "Epoch 55, CIFAR-10 Batch 1:  Loss:     0.2489, Validation Accuracy: 0.666200\n",
      "Epoch 55, CIFAR-10 Batch 2:  Loss:     0.2043, Validation Accuracy: 0.651200\n",
      "Epoch 55, CIFAR-10 Batch 3:  Loss:     0.1598, Validation Accuracy: 0.656000\n",
      "Epoch 55, CIFAR-10 Batch 4:  Loss:     0.2104, Validation Accuracy: 0.656600\n",
      "Epoch 55, CIFAR-10 Batch 5:  Loss:     0.1917, Validation Accuracy: 0.647800\n",
      "Epoch 56, CIFAR-10 Batch 1:  Loss:     0.2273, Validation Accuracy: 0.666400\n",
      "Epoch 56, CIFAR-10 Batch 2:  Loss:     0.1922, Validation Accuracy: 0.660800\n",
      "Epoch 56, CIFAR-10 Batch 3:  Loss:     0.1624, Validation Accuracy: 0.646600\n",
      "Epoch 56, CIFAR-10 Batch 4:  Loss:     0.1924, Validation Accuracy: 0.656600\n",
      "Epoch 56, CIFAR-10 Batch 5:  Loss:     0.1869, Validation Accuracy: 0.656800\n",
      "Epoch 57, CIFAR-10 Batch 1:  Loss:     0.2409, Validation Accuracy: 0.659200\n",
      "Epoch 57, CIFAR-10 Batch 2:  Loss:     0.1926, Validation Accuracy: 0.652800\n",
      "Epoch 57, CIFAR-10 Batch 3:  Loss:     0.1543, Validation Accuracy: 0.657200\n",
      "Epoch 57, CIFAR-10 Batch 4:  Loss:     0.1939, Validation Accuracy: 0.658600\n",
      "Epoch 57, CIFAR-10 Batch 5:  Loss:     0.1903, Validation Accuracy: 0.655600\n",
      "Epoch 58, CIFAR-10 Batch 1:  Loss:     0.2329, Validation Accuracy: 0.662200\n",
      "Epoch 58, CIFAR-10 Batch 2:  Loss:     0.1922, Validation Accuracy: 0.658200\n",
      "Epoch 58, CIFAR-10 Batch 3:  Loss:     0.1775, Validation Accuracy: 0.639200\n",
      "Epoch 58, CIFAR-10 Batch 4:  Loss:     0.1951, Validation Accuracy: 0.660000\n",
      "Epoch 58, CIFAR-10 Batch 5:  Loss:     0.1894, Validation Accuracy: 0.651600\n",
      "Epoch 59, CIFAR-10 Batch 1:  Loss:     0.2334, Validation Accuracy: 0.665000\n",
      "Epoch 59, CIFAR-10 Batch 2:  Loss:     0.1890, Validation Accuracy: 0.663600\n",
      "Epoch 59, CIFAR-10 Batch 3:  Loss:     0.1623, Validation Accuracy: 0.643600\n",
      "Epoch 59, CIFAR-10 Batch 4:  Loss:     0.1731, Validation Accuracy: 0.665000\n",
      "Epoch 59, CIFAR-10 Batch 5:  Loss:     0.1775, Validation Accuracy: 0.655600\n",
      "Epoch 60, CIFAR-10 Batch 1:  Loss:     0.2319, Validation Accuracy: 0.662200\n",
      "Epoch 60, CIFAR-10 Batch 2:  Loss:     0.1771, Validation Accuracy: 0.657800\n",
      "Epoch 60, CIFAR-10 Batch 3:  Loss:     0.1491, Validation Accuracy: 0.657800\n",
      "Epoch 60, CIFAR-10 Batch 4:  Loss:     0.1585, Validation Accuracy: 0.661400\n",
      "Epoch 60, CIFAR-10 Batch 5:  Loss:     0.1874, Validation Accuracy: 0.653200\n",
      "Epoch 61, CIFAR-10 Batch 1:  Loss:     0.2300, Validation Accuracy: 0.664000\n",
      "Epoch 61, CIFAR-10 Batch 2:  Loss:     0.1928, Validation Accuracy: 0.655400\n",
      "Epoch 61, CIFAR-10 Batch 3:  Loss:     0.1709, Validation Accuracy: 0.648200\n",
      "Epoch 61, CIFAR-10 Batch 4:  Loss:     0.1815, Validation Accuracy: 0.659200\n",
      "Epoch 61, CIFAR-10 Batch 5:  Loss:     0.1715, Validation Accuracy: 0.656000\n",
      "Epoch 62, CIFAR-10 Batch 1:  Loss:     0.2299, Validation Accuracy: 0.657600\n",
      "Epoch 62, CIFAR-10 Batch 2:  Loss:     0.1814, Validation Accuracy: 0.657200\n",
      "Epoch 62, CIFAR-10 Batch 3:  Loss:     0.1475, Validation Accuracy: 0.655800\n",
      "Epoch 62, CIFAR-10 Batch 4:  Loss:     0.1645, Validation Accuracy: 0.661800\n",
      "Epoch 62, CIFAR-10 Batch 5:  Loss:     0.1778, Validation Accuracy: 0.647800\n",
      "Epoch 63, CIFAR-10 Batch 1:  Loss:     0.2216, Validation Accuracy: 0.661800\n",
      "Epoch 63, CIFAR-10 Batch 2:  Loss:     0.1674, Validation Accuracy: 0.653000\n",
      "Epoch 63, CIFAR-10 Batch 3:  Loss:     0.1540, Validation Accuracy: 0.657800\n",
      "Epoch 63, CIFAR-10 Batch 4:  Loss:     0.1800, Validation Accuracy: 0.654400\n",
      "Epoch 63, CIFAR-10 Batch 5:  Loss:     0.1745, Validation Accuracy: 0.664200\n",
      "Epoch 64, CIFAR-10 Batch 1:  Loss:     0.2177, Validation Accuracy: 0.662600\n",
      "Epoch 64, CIFAR-10 Batch 2:  Loss:     0.1657, Validation Accuracy: 0.664200\n",
      "Epoch 64, CIFAR-10 Batch 3:  Loss:     0.1451, Validation Accuracy: 0.661600\n",
      "Epoch 64, CIFAR-10 Batch 4:  Loss:     0.1640, Validation Accuracy: 0.655600\n",
      "Epoch 64, CIFAR-10 Batch 5:  Loss:     0.1654, Validation Accuracy: 0.650800\n",
      "Epoch 65, CIFAR-10 Batch 1:  Loss:     0.2095, Validation Accuracy: 0.665400\n",
      "Epoch 65, CIFAR-10 Batch 2:  Loss:     0.1591, Validation Accuracy: 0.657400\n",
      "Epoch 65, CIFAR-10 Batch 3:  Loss:     0.1463, Validation Accuracy: 0.652000\n",
      "Epoch 65, CIFAR-10 Batch 4:  Loss:     0.1686, Validation Accuracy: 0.655600\n",
      "Epoch 65, CIFAR-10 Batch 5:  Loss:     0.1678, Validation Accuracy: 0.649600\n",
      "Epoch 66, CIFAR-10 Batch 1:  Loss:     0.2263, Validation Accuracy: 0.664200\n",
      "Epoch 66, CIFAR-10 Batch 2:  Loss:     0.1779, Validation Accuracy: 0.657200\n",
      "Epoch 66, CIFAR-10 Batch 3:  Loss:     0.1268, Validation Accuracy: 0.659000\n",
      "Epoch 66, CIFAR-10 Batch 4:  Loss:     0.1472, Validation Accuracy: 0.661200\n",
      "Epoch 66, CIFAR-10 Batch 5:  Loss:     0.1505, Validation Accuracy: 0.661600\n",
      "Epoch 67, CIFAR-10 Batch 1:  Loss:     0.2067, Validation Accuracy: 0.670400\n",
      "Epoch 67, CIFAR-10 Batch 2:  Loss:     0.1696, Validation Accuracy: 0.652000\n",
      "Epoch 67, CIFAR-10 Batch 3:  Loss:     0.1407, Validation Accuracy: 0.644600\n",
      "Epoch 67, CIFAR-10 Batch 4:  Loss:     0.1552, Validation Accuracy: 0.654000\n",
      "Epoch 67, CIFAR-10 Batch 5:  Loss:     0.1494, Validation Accuracy: 0.659800\n",
      "Epoch 68, CIFAR-10 Batch 1:  Loss:     0.2168, Validation Accuracy: 0.661200\n",
      "Epoch 68, CIFAR-10 Batch 2:  Loss:     0.1629, Validation Accuracy: 0.657800\n",
      "Epoch 68, CIFAR-10 Batch 3:  Loss:     0.1514, Validation Accuracy: 0.642800\n",
      "Epoch 68, CIFAR-10 Batch 4:  Loss:     0.1407, Validation Accuracy: 0.659600\n",
      "Epoch 68, CIFAR-10 Batch 5:  Loss:     0.1540, Validation Accuracy: 0.658000\n",
      "Epoch 69, CIFAR-10 Batch 1:  Loss:     0.2184, Validation Accuracy: 0.657200\n",
      "Epoch 69, CIFAR-10 Batch 2:  Loss:     0.1551, Validation Accuracy: 0.657000\n",
      "Epoch 69, CIFAR-10 Batch 3:  Loss:     0.1556, Validation Accuracy: 0.658000\n",
      "Epoch 69, CIFAR-10 Batch 4:  Loss:     0.1387, Validation Accuracy: 0.659200\n",
      "Epoch 69, CIFAR-10 Batch 5:  Loss:     0.1601, Validation Accuracy: 0.662600\n",
      "Epoch 70, CIFAR-10 Batch 1:  Loss:     0.1999, Validation Accuracy: 0.664800\n",
      "Epoch 70, CIFAR-10 Batch 2:  Loss:     0.1502, Validation Accuracy: 0.655200\n",
      "Epoch 70, CIFAR-10 Batch 3:  Loss:     0.1556, Validation Accuracy: 0.655600\n",
      "Epoch 70, CIFAR-10 Batch 4:  Loss:     0.1457, Validation Accuracy: 0.654400\n",
      "Epoch 70, CIFAR-10 Batch 5:  Loss:     0.1580, Validation Accuracy: 0.661000\n",
      "Epoch 71, CIFAR-10 Batch 1:  Loss:     0.1866, Validation Accuracy: 0.663000\n",
      "Epoch 71, CIFAR-10 Batch 2:  Loss:     0.1511, Validation Accuracy: 0.656600\n",
      "Epoch 71, CIFAR-10 Batch 3:  Loss:     0.1350, Validation Accuracy: 0.641200\n",
      "Epoch 71, CIFAR-10 Batch 4:  Loss:     0.1490, Validation Accuracy: 0.655400\n",
      "Epoch 71, CIFAR-10 Batch 5:  Loss:     0.1638, Validation Accuracy: 0.657200\n",
      "Epoch 72, CIFAR-10 Batch 1:  Loss:     0.1844, Validation Accuracy: 0.668000\n",
      "Epoch 72, CIFAR-10 Batch 2:  Loss:     0.1455, Validation Accuracy: 0.648400\n",
      "Epoch 72, CIFAR-10 Batch 3:  Loss:     0.1183, Validation Accuracy: 0.645600\n",
      "Epoch 72, CIFAR-10 Batch 4:  Loss:     0.1347, Validation Accuracy: 0.656600\n",
      "Epoch 72, CIFAR-10 Batch 5:  Loss:     0.1586, Validation Accuracy: 0.658400\n",
      "Epoch 73, CIFAR-10 Batch 1:  Loss:     0.1743, Validation Accuracy: 0.665800\n",
      "Epoch 73, CIFAR-10 Batch 2:  Loss:     0.1410, Validation Accuracy: 0.650600\n",
      "Epoch 73, CIFAR-10 Batch 3:  Loss:     0.1401, Validation Accuracy: 0.654400\n",
      "Epoch 73, CIFAR-10 Batch 4:  Loss:     0.1426, Validation Accuracy: 0.659200\n",
      "Epoch 73, CIFAR-10 Batch 5:  Loss:     0.1438, Validation Accuracy: 0.661200\n",
      "Epoch 74, CIFAR-10 Batch 1:  Loss:     0.1919, Validation Accuracy: 0.659000\n",
      "Epoch 74, CIFAR-10 Batch 2:  Loss:     0.1544, Validation Accuracy: 0.657800\n",
      "Epoch 74, CIFAR-10 Batch 3:  Loss:     0.1179, Validation Accuracy: 0.655600\n",
      "Epoch 74, CIFAR-10 Batch 4:  Loss:     0.1270, Validation Accuracy: 0.659600\n",
      "Epoch 74, CIFAR-10 Batch 5:  Loss:     0.1577, Validation Accuracy: 0.655600\n",
      "Epoch 75, CIFAR-10 Batch 1:  Loss:     0.1949, Validation Accuracy: 0.667000\n",
      "Epoch 75, CIFAR-10 Batch 2:  Loss:     0.1356, Validation Accuracy: 0.668800\n",
      "Epoch 75, CIFAR-10 Batch 3:  Loss:     0.1177, Validation Accuracy: 0.640800\n",
      "Epoch 75, CIFAR-10 Batch 4:  Loss:     0.1342, Validation Accuracy: 0.659400\n",
      "Epoch 75, CIFAR-10 Batch 5:  Loss:     0.1561, Validation Accuracy: 0.660600\n",
      "Epoch 76, CIFAR-10 Batch 1:  Loss:     0.2099, Validation Accuracy: 0.659000\n",
      "Epoch 76, CIFAR-10 Batch 2:  Loss:     0.1426, Validation Accuracy: 0.660400\n",
      "Epoch 76, CIFAR-10 Batch 3:  Loss:     0.1217, Validation Accuracy: 0.647400\n",
      "Epoch 76, CIFAR-10 Batch 4:  Loss:     0.1376, Validation Accuracy: 0.661800\n",
      "Epoch 76, CIFAR-10 Batch 5:  Loss:     0.1542, Validation Accuracy: 0.666200\n",
      "Epoch 77, CIFAR-10 Batch 1:  Loss:     0.1692, Validation Accuracy: 0.660800\n",
      "Epoch 77, CIFAR-10 Batch 2:  Loss:     0.1477, Validation Accuracy: 0.665000\n",
      "Epoch 77, CIFAR-10 Batch 3:  Loss:     0.1132, Validation Accuracy: 0.638400\n",
      "Epoch 77, CIFAR-10 Batch 4:  Loss:     0.1277, Validation Accuracy: 0.658600\n",
      "Epoch 77, CIFAR-10 Batch 5:  Loss:     0.1395, Validation Accuracy: 0.660800\n",
      "Epoch 78, CIFAR-10 Batch 1:  Loss:     0.1798, Validation Accuracy: 0.660600\n",
      "Epoch 78, CIFAR-10 Batch 2:  Loss:     0.1527, Validation Accuracy: 0.660600\n",
      "Epoch 78, CIFAR-10 Batch 3:  Loss:     0.1222, Validation Accuracy: 0.657200\n",
      "Epoch 78, CIFAR-10 Batch 4:  Loss:     0.1327, Validation Accuracy: 0.663600\n",
      "Epoch 78, CIFAR-10 Batch 5:  Loss:     0.1464, Validation Accuracy: 0.667000\n",
      "Epoch 79, CIFAR-10 Batch 1:  Loss:     0.1854, Validation Accuracy: 0.665600\n",
      "Epoch 79, CIFAR-10 Batch 2:  Loss:     0.1452, Validation Accuracy: 0.658400\n",
      "Epoch 79, CIFAR-10 Batch 3:  Loss:     0.1183, Validation Accuracy: 0.654000\n",
      "Epoch 79, CIFAR-10 Batch 4:  Loss:     0.1279, Validation Accuracy: 0.663200\n",
      "Epoch 79, CIFAR-10 Batch 5:  Loss:     0.1415, Validation Accuracy: 0.662600\n",
      "Epoch 80, CIFAR-10 Batch 1:  Loss:     0.1798, Validation Accuracy: 0.657400\n",
      "Epoch 80, CIFAR-10 Batch 2:  Loss:     0.1440, Validation Accuracy: 0.657600\n",
      "Epoch 80, CIFAR-10 Batch 3:  Loss:     0.1149, Validation Accuracy: 0.651600\n",
      "Epoch 80, CIFAR-10 Batch 4:  Loss:     0.1372, Validation Accuracy: 0.661000\n",
      "Epoch 80, CIFAR-10 Batch 5:  Loss:     0.1407, Validation Accuracy: 0.661400\n",
      "Epoch 81, CIFAR-10 Batch 1:  Loss:     0.1708, Validation Accuracy: 0.669600\n",
      "Epoch 81, CIFAR-10 Batch 2:  Loss:     0.1367, Validation Accuracy: 0.657400\n",
      "Epoch 81, CIFAR-10 Batch 3:  Loss:     0.1273, Validation Accuracy: 0.638800\n",
      "Epoch 81, CIFAR-10 Batch 4:  Loss:     0.1291, Validation Accuracy: 0.665600\n",
      "Epoch 81, CIFAR-10 Batch 5:  Loss:     0.1547, Validation Accuracy: 0.662600\n",
      "Epoch 82, CIFAR-10 Batch 1:  Loss:     0.1838, Validation Accuracy: 0.658200\n",
      "Epoch 82, CIFAR-10 Batch 2:  Loss:     0.1341, Validation Accuracy: 0.660200\n",
      "Epoch 82, CIFAR-10 Batch 3:  Loss:     0.1232, Validation Accuracy: 0.646200\n",
      "Epoch 82, CIFAR-10 Batch 4:  Loss:     0.1147, Validation Accuracy: 0.668400\n",
      "Epoch 82, CIFAR-10 Batch 5:  Loss:     0.1474, Validation Accuracy: 0.667000\n",
      "Epoch 83, CIFAR-10 Batch 1:  Loss:     0.1755, Validation Accuracy: 0.663000\n",
      "Epoch 83, CIFAR-10 Batch 2:  Loss:     0.1295, Validation Accuracy: 0.660400\n",
      "Epoch 83, CIFAR-10 Batch 3:  Loss:     0.1130, Validation Accuracy: 0.657600\n",
      "Epoch 83, CIFAR-10 Batch 4:  Loss:     0.1317, Validation Accuracy: 0.660800\n",
      "Epoch 83, CIFAR-10 Batch 5:  Loss:     0.1421, Validation Accuracy: 0.662600\n",
      "Epoch 84, CIFAR-10 Batch 1:  Loss:     0.1600, Validation Accuracy: 0.665400\n",
      "Epoch 84, CIFAR-10 Batch 2:  Loss:     0.1470, Validation Accuracy: 0.648200\n",
      "Epoch 84, CIFAR-10 Batch 3:  Loss:     0.1153, Validation Accuracy: 0.656400\n",
      "Epoch 84, CIFAR-10 Batch 4:  Loss:     0.1322, Validation Accuracy: 0.663200\n",
      "Epoch 84, CIFAR-10 Batch 5:  Loss:     0.1425, Validation Accuracy: 0.663000\n",
      "Epoch 85, CIFAR-10 Batch 1:  Loss:     0.1581, Validation Accuracy: 0.661200\n",
      "Epoch 85, CIFAR-10 Batch 2:  Loss:     0.1286, Validation Accuracy: 0.657200\n",
      "Epoch 85, CIFAR-10 Batch 3:  Loss:     0.1161, Validation Accuracy: 0.647800\n",
      "Epoch 85, CIFAR-10 Batch 4:  Loss:     0.1288, Validation Accuracy: 0.659600\n",
      "Epoch 85, CIFAR-10 Batch 5:  Loss:     0.1381, Validation Accuracy: 0.657000\n",
      "Epoch 86, CIFAR-10 Batch 1:  Loss:     0.1465, Validation Accuracy: 0.668000\n",
      "Epoch 86, CIFAR-10 Batch 2:  Loss:     0.1322, Validation Accuracy: 0.664000\n",
      "Epoch 86, CIFAR-10 Batch 3:  Loss:     0.1146, Validation Accuracy: 0.655200\n",
      "Epoch 86, CIFAR-10 Batch 4:  Loss:     0.1219, Validation Accuracy: 0.662800\n",
      "Epoch 86, CIFAR-10 Batch 5:  Loss:     0.1436, Validation Accuracy: 0.665800\n",
      "Epoch 87, CIFAR-10 Batch 1:  Loss:     0.1624, Validation Accuracy: 0.670200\n",
      "Epoch 87, CIFAR-10 Batch 2:  Loss:     0.1354, Validation Accuracy: 0.661200\n",
      "Epoch 87, CIFAR-10 Batch 3:  Loss:     0.1165, Validation Accuracy: 0.642800\n",
      "Epoch 87, CIFAR-10 Batch 4:  Loss:     0.1227, Validation Accuracy: 0.664000\n",
      "Epoch 87, CIFAR-10 Batch 5:  Loss:     0.1251, Validation Accuracy: 0.666600\n",
      "Epoch 88, CIFAR-10 Batch 1:  Loss:     0.1659, Validation Accuracy: 0.663800\n",
      "Epoch 88, CIFAR-10 Batch 2:  Loss:     0.1377, Validation Accuracy: 0.659000\n",
      "Epoch 88, CIFAR-10 Batch 3:  Loss:     0.1190, Validation Accuracy: 0.654200\n",
      "Epoch 88, CIFAR-10 Batch 4:  Loss:     0.1436, Validation Accuracy: 0.657000\n",
      "Epoch 88, CIFAR-10 Batch 5:  Loss:     0.1288, Validation Accuracy: 0.655200\n",
      "Epoch 89, CIFAR-10 Batch 1:  Loss:     0.1696, Validation Accuracy: 0.661600\n",
      "Epoch 89, CIFAR-10 Batch 2:  Loss:     0.1343, Validation Accuracy: 0.665200\n",
      "Epoch 89, CIFAR-10 Batch 3:  Loss:     0.1121, Validation Accuracy: 0.647400\n",
      "Epoch 89, CIFAR-10 Batch 4:  Loss:     0.1300, Validation Accuracy: 0.668000\n",
      "Epoch 89, CIFAR-10 Batch 5:  Loss:     0.1398, Validation Accuracy: 0.667000\n",
      "Epoch 90, CIFAR-10 Batch 1:  Loss:     0.1580, Validation Accuracy: 0.664400\n",
      "Epoch 90, CIFAR-10 Batch 2:  Loss:     0.1374, Validation Accuracy: 0.655200\n",
      "Epoch 90, CIFAR-10 Batch 3:  Loss:     0.1244, Validation Accuracy: 0.648400\n",
      "Epoch 90, CIFAR-10 Batch 4:  Loss:     0.1216, Validation Accuracy: 0.661600\n",
      "Epoch 90, CIFAR-10 Batch 5:  Loss:     0.1380, Validation Accuracy: 0.663600\n",
      "Epoch 91, CIFAR-10 Batch 1:  Loss:     0.1804, Validation Accuracy: 0.652800\n",
      "Epoch 91, CIFAR-10 Batch 2:  Loss:     0.1465, Validation Accuracy: 0.643600\n",
      "Epoch 91, CIFAR-10 Batch 3:  Loss:     0.1010, Validation Accuracy: 0.650600\n",
      "Epoch 91, CIFAR-10 Batch 4:  Loss:     0.1309, Validation Accuracy: 0.661800\n",
      "Epoch 91, CIFAR-10 Batch 5:  Loss:     0.1334, Validation Accuracy: 0.664800\n",
      "Epoch 92, CIFAR-10 Batch 1:  Loss:     0.1631, Validation Accuracy: 0.663200\n",
      "Epoch 92, CIFAR-10 Batch 2:  Loss:     0.1311, Validation Accuracy: 0.661600\n",
      "Epoch 92, CIFAR-10 Batch 3:  Loss:     0.1135, Validation Accuracy: 0.663400\n",
      "Epoch 92, CIFAR-10 Batch 4:  Loss:     0.1270, Validation Accuracy: 0.670000\n",
      "Epoch 92, CIFAR-10 Batch 5:  Loss:     0.1295, Validation Accuracy: 0.661000\n",
      "Epoch 93, CIFAR-10 Batch 1:  Loss:     0.1587, Validation Accuracy: 0.660600\n",
      "Epoch 93, CIFAR-10 Batch 2:  Loss:     0.1088, Validation Accuracy: 0.653800\n",
      "Epoch 93, CIFAR-10 Batch 3:  Loss:     0.0976, Validation Accuracy: 0.650600\n",
      "Epoch 93, CIFAR-10 Batch 4:  Loss:     0.1257, Validation Accuracy: 0.666600\n",
      "Epoch 93, CIFAR-10 Batch 5:  Loss:     0.1292, Validation Accuracy: 0.664200\n",
      "Epoch 94, CIFAR-10 Batch 1:  Loss:     0.1677, Validation Accuracy: 0.656800\n",
      "Epoch 94, CIFAR-10 Batch 2:  Loss:     0.1161, Validation Accuracy: 0.659000\n",
      "Epoch 94, CIFAR-10 Batch 3:  Loss:     0.1084, Validation Accuracy: 0.655200\n",
      "Epoch 94, CIFAR-10 Batch 4:  Loss:     0.1217, Validation Accuracy: 0.660600\n",
      "Epoch 94, CIFAR-10 Batch 5:  Loss:     0.1258, Validation Accuracy: 0.661600\n",
      "Epoch 95, CIFAR-10 Batch 1:  Loss:     0.1592, Validation Accuracy: 0.662200\n",
      "Epoch 95, CIFAR-10 Batch 2:  Loss:     0.1215, Validation Accuracy: 0.661400\n",
      "Epoch 95, CIFAR-10 Batch 3:  Loss:     0.1013, Validation Accuracy: 0.654400\n",
      "Epoch 95, CIFAR-10 Batch 4:  Loss:     0.1210, Validation Accuracy: 0.662200\n",
      "Epoch 95, CIFAR-10 Batch 5:  Loss:     0.1383, Validation Accuracy: 0.656800\n",
      "Epoch 96, CIFAR-10 Batch 1:  Loss:     0.1667, Validation Accuracy: 0.653000\n",
      "Epoch 96, CIFAR-10 Batch 2:  Loss:     0.1211, Validation Accuracy: 0.657000\n",
      "Epoch 96, CIFAR-10 Batch 3:  Loss:     0.1028, Validation Accuracy: 0.645800\n",
      "Epoch 96, CIFAR-10 Batch 4:  Loss:     0.1276, Validation Accuracy: 0.660600\n",
      "Epoch 96, CIFAR-10 Batch 5:  Loss:     0.1166, Validation Accuracy: 0.662600\n",
      "Epoch 97, CIFAR-10 Batch 1:  Loss:     0.1511, Validation Accuracy: 0.658800\n",
      "Epoch 97, CIFAR-10 Batch 2:  Loss:     0.1196, Validation Accuracy: 0.656800\n",
      "Epoch 97, CIFAR-10 Batch 3:  Loss:     0.0985, Validation Accuracy: 0.647200\n",
      "Epoch 97, CIFAR-10 Batch 4:  Loss:     0.1125, Validation Accuracy: 0.662600\n",
      "Epoch 97, CIFAR-10 Batch 5:  Loss:     0.1163, Validation Accuracy: 0.662600\n",
      "Epoch 98, CIFAR-10 Batch 1:  Loss:     0.1474, Validation Accuracy: 0.655600\n",
      "Epoch 98, CIFAR-10 Batch 2:  Loss:     0.1212, Validation Accuracy: 0.653600\n",
      "Epoch 98, CIFAR-10 Batch 3:  Loss:     0.1015, Validation Accuracy: 0.648600\n",
      "Epoch 98, CIFAR-10 Batch 4:  Loss:     0.1050, Validation Accuracy: 0.665400\n",
      "Epoch 98, CIFAR-10 Batch 5:  Loss:     0.1278, Validation Accuracy: 0.662800\n",
      "Epoch 99, CIFAR-10 Batch 1:  Loss:     0.1508, Validation Accuracy: 0.667400\n",
      "Epoch 99, CIFAR-10 Batch 2:  Loss:     0.1116, Validation Accuracy: 0.662400\n",
      "Epoch 99, CIFAR-10 Batch 3:  Loss:     0.0937, Validation Accuracy: 0.652200\n",
      "Epoch 99, CIFAR-10 Batch 4:  Loss:     0.1158, Validation Accuracy: 0.664400\n",
      "Epoch 99, CIFAR-10 Batch 5:  Loss:     0.1114, Validation Accuracy: 0.663800\n",
      "Epoch 100, CIFAR-10 Batch 1:  Loss:     0.1378, Validation Accuracy: 0.657400\n",
      "Epoch 100, CIFAR-10 Batch 2:  Loss:     0.1173, Validation Accuracy: 0.653200\n",
      "Epoch 100, CIFAR-10 Batch 3:  Loss:     0.0920, Validation Accuracy: 0.666000\n",
      "Epoch 100, CIFAR-10 Batch 4:  Loss:     0.0988, Validation Accuracy: 0.661400\n",
      "Epoch 100, CIFAR-10 Batch 5:  Loss:     0.1173, Validation Accuracy: 0.668200\n"
     ]
    }
   ],
   "source": [
    "\"\"\"\n",
    "DON'T MODIFY ANYTHING IN THIS CELL\n",
    "\"\"\"\n",
    "save_model_path = './image_classification'\n",
    "\n",
    "print('Training...')\n",
    "with tf.Session() as sess:\n",
    "    # Initializing the variables\n",
    "    sess.run(tf.global_variables_initializer())\n",
    "    \n",
    "    # Training cycle\n",
    "    for epoch in range(epochs):\n",
    "        # Loop over all batches\n",
    "        n_batches = 5\n",
    "        for batch_i in range(1, n_batches + 1):\n",
    "            for batch_features, batch_labels in helper.load_preprocess_training_batch(batch_i, batch_size):\n",
    "                train_neural_network(sess, optimizer, keep_probability, batch_features, batch_labels)\n",
    "            print('Epoch {:>2}, CIFAR-10 Batch {}:  '.format(epoch + 1, batch_i), end='')\n",
    "            print_stats(sess, batch_features, batch_labels, cost, accuracy)\n",
    "            \n",
    "    # Save Model\n",
    "    saver = tf.train.Saver()\n",
    "    save_path = saver.save(sess, save_model_path)"
   ]
  },
  {
   "cell_type": "markdown",
   "metadata": {
    "deletable": true,
    "editable": true
   },
   "source": [
    "# Checkpoint\n",
    "The model has been saved to disk.\n",
    "## Test Model\n",
    "Test your model against the test dataset.  This will be your final accuracy. You should have an accuracy greater than 50%. If you don't, keep tweaking the model architecture and parameters."
   ]
  },
  {
   "cell_type": "code",
   "execution_count": 23,
   "metadata": {
    "collapsed": false,
    "deletable": true,
    "editable": true
   },
   "outputs": [
    {
     "name": "stdout",
     "output_type": "stream",
     "text": [
      "Testing Accuracy: 0.675\n",
      "\n"
     ]
    },
    {
     "data": {
      "image/png": "[encoded data removed]",
      "text/plain": [
       "<matplotlib.figure.Figure at 0x7ff1bceeb470>"
      ]
     },
     "metadata": {
      "image/png": {
       "height": 319,
       "width": 355
      }
     },
     "output_type": "display_data"
    }
   ],
   "source": [
    "\"\"\"\n",
    "DON'T MODIFY ANYTHING IN THIS CELL\n",
    "\"\"\"\n",
    "%matplotlib inline\n",
    "%config InlineBackend.figure_format = 'retina'\n",
    "\n",
    "import tensorflow as tf\n",
    "import pickle\n",
    "import helper\n",
    "import random\n",
    "\n",
    "# Set batch size if not already set\n",
    "try:\n",
    "    if batch_size:\n",
    "        pass\n",
    "except NameError:\n",
    "    batch_size = 64\n",
    "\n",
    "save_model_path = './image_classification'\n",
    "n_samples = 4\n",
    "top_n_predictions = 3\n",
    "\n",
    "def test_model():\n",
    "    \"\"\"\n",
    "    Test the saved model against the test dataset\n",
    "    \"\"\"\n",
    "\n",
    "    test_features, test_labels = pickle.load(open('preprocess_training.p', mode='rb'))\n",
    "    loaded_graph = tf.Graph()\n",
    "\n",
    "    with tf.Session(graph=loaded_graph) as sess:\n",
    "        # Load model\n",
    "        loader = tf.train.import_meta_graph(save_model_path + '.meta')\n",
    "        loader.restore(sess, save_model_path)\n",
    "\n",
    "        # Get Tensors from loaded model\n",
    "        loaded_x = loaded_graph.get_tensor_by_name('x:0')\n",
    "        loaded_y = loaded_graph.get_tensor_by_name('y:0')\n",
    "        loaded_keep_prob = loaded_graph.get_tensor_by_name('keep_prob:0')\n",
    "        loaded_logits = loaded_graph.get_tensor_by_name('logits:0')\n",
    "        loaded_acc = loaded_graph.get_tensor_by_name('accuracy:0')\n",
    "        \n",
    "        # Get accuracy in batches for memory limitations\n",
    "        test_batch_acc_total = 0\n",
    "        test_batch_count = 0\n",
    "        \n",
    "        for train_feature_batch, train_label_batch in helper.batch_features_labels(test_features, test_labels, batch_size):\n",
    "            test_batch_acc_total += sess.run(\n",
    "                loaded_acc,\n",
    "                feed_dict={loaded_x: train_feature_batch, loaded_y: train_label_batch, loaded_keep_prob: 1.0})\n",
    "            test_batch_count += 1\n",
    "\n",
    "        print('Testing Accuracy: {}\\n'.format(test_batch_acc_total/test_batch_count))\n",
    "\n",
    "        # Print Random Samples\n",
    "        random_test_features, random_test_labels = tuple(zip(*random.sample(list(zip(test_features, test_labels)), n_samples)))\n",
    "        random_test_predictions = sess.run(\n",
    "            tf.nn.top_k(tf.nn.softmax(loaded_logits), top_n_predictions),\n",
    "            feed_dict={loaded_x: random_test_features, loaded_y: random_test_labels, loaded_keep_prob: 1.0})\n",
    "        helper.display_image_predictions(random_test_features, random_test_labels, random_test_predictions)\n",
    "\n",
    "\n",
    "test_model()"
   ]
  },
  {
   "cell_type": "markdown",
   "metadata": {
    "deletable": true,
    "editable": true
   },
   "source": [
    "## Why 50-70% Accuracy?\n",
    "You might be wondering why you can't get an accuracy any higher. First things first, 50% isn't bad for a simple CNN.  Pure guessing would get you 10% accuracy. However, you might notice people are getting scores [well above 70%](http://rodrigob.github.io/are_we_there_yet/build/classification_datasets_results.html#43494641522d3130).  That's because we haven't taught you all there is to know about neural networks. We still need to cover a few more techniques.\n",
    "## Submitting This Project\n",
    "When submitting this project, make sure to run all the cells before saving the notebook.  Save the notebook file as \"dlnd_image_classification.ipynb\" and save it as a HTML file under \"File\" -> \"Download as\".  Include the \"helper.py\" and \"problem_unittests.py\" files in your submission."
   ]
  }
 ],
 "metadata": {
  "kernelspec": {
   "display_name": "Python 3",
   "language": "python",
   "name": "python3"
  },
  "language_info": {
   "codemirror_mode": {
    "name": "ipython",
    "version": 3
   },
   "file_extension": ".py",
   "mimetype": "text/x-python",
   "name": "python",
   "nbconvert_exporter": "python",
   "pygments_lexer": "ipython3",
   "version": "3.5.3"
  }
 },
 "nbformat": 4,
 "nbformat_minor": 0
}
