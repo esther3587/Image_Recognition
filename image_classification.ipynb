{
 "cells": [
  {
   "cell_type": "markdown",
   "metadata": {
    "collapsed": true
   },
   "source": [
    "# Image Classification\n",
    "In this project, you'll classify images from the [CIFAR-10 dataset](https://www.cs.toronto.edu/~kriz/cifar.html).  The dataset consists of airplanes, dogs, cats, and other objects. You'll preprocess the images, then train a convolutional neural network on all the samples. The images need to be normalized and the labels need to be one-hot encoded.  You'll get to apply what you learned and build a convolutional, max pooling, dropout, and fully connected layers.  At the end, you'll get to see your neural network's predictions on the sample images.\n",
    "## Get the Data\n",
    "Run the following cell to download the [CIFAR-10 dataset for python](https://www.cs.toronto.edu/~kriz/cifar-10-python.tar.gz)."
   ]
  },
  {
   "cell_type": "code",
   "execution_count": 1,
   "metadata": {
    "collapsed": false
   },
   "outputs": [
    {
     "name": "stderr",
     "output_type": "stream",
     "text": [
      "CIFAR-10 Dataset: 171MB [03:55, 723KB/s]                               "
     ]
    },
    {
     "name": "stdout",
     "output_type": "stream",
     "text": [
      "All files found!\n"
     ]
    },
    {
     "name": "stderr",
     "output_type": "stream",
     "text": [
      "\n"
     ]
    }
   ],
   "source": [
    "\"\"\"\n",
    "DON'T MODIFY ANYTHING IN THIS CELL THAT IS BELOW THIS LINE\n",
    "\"\"\"\n",
    "#from urllib.request import request, urlretrieve\n",
    "import urllib\n",
    "from os.path import isfile, isdir\n",
    "from tqdm import tqdm\n",
    "import problem_unittests as tests\n",
    "import tarfile\n",
    "\n",
    "cifar10_dataset_folder_path = 'cifar-10-batches-py'\n",
    "\n",
    "class DLProgress(tqdm):\n",
    "    last_block = 0\n",
    "\n",
    "    def hook(self, block_num=1, block_size=1, total_size=None):\n",
    "        self.total = total_size\n",
    "        self.update((block_num - self.last_block) * block_size)\n",
    "        self.last_block = block_num\n",
    "\n",
    "if not isfile('cifar-10-python.tar.gz'):\n",
    "    with DLProgress(unit='B', unit_scale=True, miniters=1, desc='CIFAR-10 Dataset') as pbar:\n",
    "        urllib.urlretrieve(\n",
    "            'https://www.cs.toronto.edu/~kriz/cifar-10-python.tar.gz',\n",
    "            'cifar-10-python.tar.gz',\n",
    "            pbar.hook)\n",
    "\n",
    "if not isdir(cifar10_dataset_folder_path):\n",
    "    with tarfile.open('cifar-10-python.tar.gz') as tar:\n",
    "        tar.extractall()\n",
    "        tar.close()\n",
    "\n",
    "\n",
    "tests.test_folder_path(cifar10_dataset_folder_path)"
   ]
  },
  {
   "cell_type": "code",
   "execution_count": 2,
   "metadata": {
    "collapsed": true
   },
   "outputs": [],
   "source": [
    "cifar10_dataset_folder_path = 'cifar-10-batches-py'"
   ]
  },
  {
   "cell_type": "markdown",
   "metadata": {},
   "source": [
    "## Explore the Data\n",
    "The dataset is broken into batches to prevent your machine from running out of memory.  The CIFAR-10 dataset consists of 5 batches, named `data_batch_1`, `data_batch_2`, etc.. Each batch contains the labels and images that are one of the following:\n",
    "* airplane\n",
    "* automobile\n",
    "* bird\n",
    "* cat\n",
    "* deer\n",
    "* dog\n",
    "* frog\n",
    "* horse\n",
    "* ship\n",
    "* truck\n",
    "\n",
    "Understanding a dataset is part of making predictions on the data.  Play around with the code cell below by changing the `batch_id` and `sample_id`. The `batch_id` is the id for a batch (1-5). The `sample_id` is the id for a image and label pair in the batch.\n",
    "\n",
    "Ask yourself \"What are all possible labels?\", \"What is the range of values for the image data?\", \"Are the labels in order or random?\".  Answers to questions like these will help you preprocess the data and end up with better predictions."
   ]
  },
  {
   "cell_type": "code",
   "execution_count": 3,
   "metadata": {
    "collapsed": false
   },
   "outputs": [
    {
     "name": "stdout",
     "output_type": "stream",
     "text": [
      "\n",
      "Stats of batch 2:\n",
      "Samples: 10000\n",
      "Label Counts: {0: 984, 1: 1007, 2: 1010, 3: 995, 4: 1010, 5: 988, 6: 1008, 7: 1026, 8: 987, 9: 985}\n",
      "First 20 Labels: [1, 6, 6, 8, 8, 3, 4, 6, 0, 6, 0, 3, 6, 6, 5, 4, 8, 3, 2, 6]\n",
      "\n",
      "Example of Image 5:\n",
      "Image - Min Value: 3 Max Value: 219\n",
      "Image - Shape: (32, 32, 3)\n",
      "Label - Label Id: 3 Name: cat\n"
     ]
    },
    {
     "data": {
      "image/png": "[encoded data removed]",
      "text/plain": [
       "<matplotlib.figure.Figure at 0x115a1d550>"
      ]
     },
     "metadata": {
      "image/png": {
       "height": 250,
       "width": 253
      }
     },
     "output_type": "display_data"
    }
   ],
   "source": [
    "%matplotlib inline\n",
    "%config InlineBackend.figure_format = 'retina'\n",
    "\n",
    "import helper\n",
    "import numpy as np\n",
    "\n",
    "# Explore the dataset\n",
    "batch_id = 2\n",
    "sample_id = 5\n",
    "helper.display_stats(cifar10_dataset_folder_path, batch_id, sample_id)"
   ]
  },
  {
   "cell_type": "code",
   "execution_count": 16,
   "metadata": {
    "collapsed": false
   },
   "outputs": [
    {
     "name": "stdout",
     "output_type": "stream",
     "text": [
      "\n",
      "Stats of batch 4:\n",
      "Samples: 10000\n",
      "Label Counts: {0: 1003, 1: 963, 2: 1041, 3: 976, 4: 1004, 5: 1021, 6: 1004, 7: 981, 8: 1024, 9: 983}\n",
      "First 20 Labels: [0, 6, 0, 2, 7, 2, 1, 2, 4, 1, 5, 6, 6, 3, 1, 3, 5, 5, 8, 1]\n",
      "\n",
      "Example of Image 20:\n",
      "Image - Min Value: 18 Max Value: 223\n",
      "Image - Shape: (32, 32, 3)\n",
      "Label - Label Id: 4 Name: deer\n"
     ]
    },
    {
     "data": {
      "image/png": "[encoded data removed]",
      "text/plain": [
       "<matplotlib.figure.Figure at 0x11d783210>"
      ]
     },
     "metadata": {
      "image/png": {
       "height": 250,
       "width": 253
      }
     },
     "output_type": "display_data"
    }
   ],
   "source": [
    "batch_id = 4\n",
    "sample_id = 20\n",
    "helper.display_stats(cifar10_dataset_folder_path, batch_id, sample_id)"
   ]
  },
  {
   "cell_type": "markdown",
   "metadata": {},
   "source": [
    "## Implement Preprocess Functions\n",
    "### Normalize\n",
    "In the cell below, implement the `normalize` function to take in image data, `x`, and return it as a normalized Numpy array. The values should be in the range of 0 to 1, inclusive.  The return object should be the same shape as `x`."
   ]
  },
  {
   "cell_type": "code",
   "execution_count": 44,
   "metadata": {
    "collapsed": false
   },
   "outputs": [
    {
     "name": "stdout",
     "output_type": "stream",
     "text": [
      "Tests Passed\n"
     ]
    }
   ],
   "source": [
    "def normalize(x):\n",
    "    \"\"\"\n",
    "    Normalize a list of sample image data in the range of 0 to 1\n",
    "    : x: List of image data.  The image shape is (32, 32, 3)\n",
    "    : return: Numpy array of normalize data\n",
    "    \"\"\"\n",
    "    # TODO: Implement Function\n",
    "    #x_norm = x/np.sum(x,axis=(1,2),keepdims=True)\n",
    "    scale_max = 255\n",
    "    scale_min = 0\n",
    "    return (x-scale_min)/(scale_max-scale_min)\n",
    "\n",
    "\n",
    "\"\"\"\n",
    "DON'T MODIFY ANYTHING IN THIS CELL THAT IS BELOW THIS LINE\n",
    "\"\"\"\n",
    "tests.test_normalize(normalize)"
   ]
  },
  {
   "cell_type": "markdown",
   "metadata": {},
   "source": [
    "### One-hot encode\n",
    "Just like the previous code cell, you'll be implementing a function for preprocessing.  This time, you'll implement the `one_hot_encode` function. The input, `x`, are a list of labels.  Implement the function to return the list of labels as One-Hot encoded Numpy array.  The possible values for labels are 0 to 9. The one-hot encoding function should return the same encoding for each value between each call to `one_hot_encode`.  Make sure to save the map of encodings outside the function.\n",
    "\n",
    "**Hint:**\n",
    "\n",
    "Look into LabelBinarizer in the preprocessing module of sklearn."
   ]
  },
  {
   "cell_type": "code",
   "execution_count": 45,
   "metadata": {
    "collapsed": false
   },
   "outputs": [
    {
     "name": "stdout",
     "output_type": "stream",
     "text": [
      "Tests Passed\n"
     ]
    }
   ],
   "source": [
    "from sklearn import preprocessing\n",
    "lb = preprocessing.LabelBinarizer()\n",
    "lb.fit([0,1,2,3,4,5,6,7,8,9])\n",
    "\n",
    "def one_hot_encode(x):\n",
    "    \"\"\"\n",
    "    One hot encode a list of sample labels. Return a one-hot encoded vector for each label.\n",
    "    : x: List of sample Labels\n",
    "    : return: Numpy array of one-hot encoded labels\n",
    "    \"\"\"\n",
    "    # TODO: Implement Function\n",
    "    x_onehot = lb.transform(x)\n",
    "    return x_onehot\n",
    "\n",
    "\n",
    "\"\"\"\n",
    "DON'T MODIFY ANYTHING IN THIS CELL THAT IS BELOW THIS LINE\n",
    "\"\"\"\n",
    "tests.test_one_hot_encode(one_hot_encode)"
   ]
  },
  {
   "cell_type": "markdown",
   "metadata": {},
   "source": [
    "### Randomize Data\n",
    "As you saw from exploring the data above, the order of the samples are randomized.  It doesn't hurt to randomize it again, but you don't need to for this dataset."
   ]
  },
  {
   "cell_type": "markdown",
   "metadata": {},
   "source": [
    "## Preprocess all the data and save it\n",
    "Running the code cell below will preprocess all the CIFAR-10 data and save it to file. The code below also uses 10% of the training data for validation."
   ]
  },
  {
   "cell_type": "code",
   "execution_count": 46,
   "metadata": {
    "collapsed": false
   },
   "outputs": [],
   "source": [
    "\"\"\"\n",
    "DON'T MODIFY ANYTHING IN THIS CELL\n",
    "\"\"\"\n",
    "# Preprocess Training, Validation, and Testing Data\n",
    "helper.preprocess_and_save_data(cifar10_dataset_folder_path, normalize, one_hot_encode)"
   ]
  },
  {
   "cell_type": "markdown",
   "metadata": {},
   "source": [
    "# Check Point\n",
    "This is your first checkpoint.  If you ever decide to come back to this notebook or have to restart the notebook, you can start from here.  The preprocessed data has been saved to disk."
   ]
  },
  {
   "cell_type": "code",
   "execution_count": 47,
   "metadata": {
    "collapsed": true
   },
   "outputs": [],
   "source": [
    "\"\"\"\n",
    "DON'T MODIFY ANYTHING IN THIS CELL\n",
    "\"\"\"\n",
    "import pickle\n",
    "import problem_unittests as tests\n",
    "import helper\n",
    "\n",
    "# Load the Preprocessed Validation data\n",
    "valid_features, valid_labels = pickle.load(open('preprocess_validation.p', mode='rb'))"
   ]
  },
  {
   "cell_type": "markdown",
   "metadata": {},
   "source": [
    "## Build the network\n",
    "For the neural network, you'll build each layer into a function.  Most of the code you've seen has been outside of functions. To test your code more thoroughly, we require that you put each layer in a function.  This allows us to give you better feedback and test for simple mistakes using our unittests before you submit your project.\n",
    "\n",
    ">**Note:** If you're finding it hard to dedicate enough time for this course each week, we've provided a small shortcut to this part of the project. In the next couple of problems, you'll have the option to use classes from the [TensorFlow Layers](https://www.tensorflow.org/api_docs/python/tf/layers) or [TensorFlow Layers (contrib)](https://www.tensorflow.org/api_guides/python/contrib.layers) packages to build each layer, except the layers you build in the \"Convolutional and Max Pooling Layer\" section.  TF Layers is similar to Keras's and TFLearn's abstraction to layers, so it's easy to pickup.\n",
    "\n",
    ">However, if you would like to get the most out of this course, try to solve all the problems _without_ using anything from the TF Layers packages. You **can** still use classes from other packages that happen to have the same name as ones you find in TF Layers! For example, instead of using the TF Layers version of the `conv2d` class, [tf.layers.conv2d](https://www.tensorflow.org/api_docs/python/tf/layers/conv2d), you would want to use the TF Neural Network version of `conv2d`, [tf.nn.conv2d](https://www.tensorflow.org/api_docs/python/tf/nn/conv2d). \n",
    "\n",
    "Let's begin!\n",
    "\n",
    "### Input\n",
    "The neural network needs to read the image data, one-hot encoded labels, and dropout keep probability. Implement the following functions\n",
    "* Implement `neural_net_image_input`\n",
    " * Return a [TF Placeholder](https://www.tensorflow.org/api_docs/python/tf/placeholder)\n",
    " * Set the shape using `image_shape` with batch size set to `None`.\n",
    " * Name the TensorFlow placeholder \"x\" using the TensorFlow `name` parameter in the [TF Placeholder](https://www.tensorflow.org/api_docs/python/tf/placeholder).\n",
    "* Implement `neural_net_label_input`\n",
    " * Return a [TF Placeholder](https://www.tensorflow.org/api_docs/python/tf/placeholder)\n",
    " * Set the shape using `n_classes` with batch size set to `None`.\n",
    " * Name the TensorFlow placeholder \"y\" using the TensorFlow `name` parameter in the [TF Placeholder](https://www.tensorflow.org/api_docs/python/tf/placeholder).\n",
    "* Implement `neural_net_keep_prob_input`\n",
    " * Return a [TF Placeholder](https://www.tensorflow.org/api_docs/python/tf/placeholder) for dropout keep probability.\n",
    " * Name the TensorFlow placeholder \"keep_prob\" using the TensorFlow `name` parameter in the [TF Placeholder](https://www.tensorflow.org/api_docs/python/tf/placeholder).\n",
    "\n",
    "These names will be used at the end of the project to load your saved model.\n",
    "\n",
    "Note: `None` for shapes in TensorFlow allow for a dynamic size."
   ]
  },
  {
   "cell_type": "code",
   "execution_count": 29,
   "metadata": {
    "collapsed": false
   },
   "outputs": [
    {
     "name": "stdout",
     "output_type": "stream",
     "text": [
      "Image Input Tests Passed.\n",
      "Label Input Tests Passed.\n",
      "Keep Prob Tests Passed.\n"
     ]
    }
   ],
   "source": [
    "import tensorflow as tf\n",
    "\n",
    "def neural_net_image_input(image_shape):\n",
    "    \"\"\"\n",
    "    Return a Tensor for a bach of image input\n",
    "    : image_shape: Shape of the images\n",
    "    : return: Tensor for image input.\n",
    "    \"\"\"\n",
    "    # TODO: Implement Function\n",
    "    return tf.placeholder(tf.float32, shape=[None, image_shape[0], image_shape[1], image_shape[2]], name='x')\n",
    "\n",
    "\n",
    "def neural_net_label_input(n_classes):\n",
    "    \"\"\"\n",
    "    Return a Tensor for a batch of label input\n",
    "    : n_classes: Number of classes\n",
    "    : return: Tensor for label input.\n",
    "    \"\"\"\n",
    "    # TODO: Implement Function\n",
    "    return tf.placeholder(tf.float32, shape=[None, n_classes], name='y')\n",
    "\n",
    "\n",
    "def neural_net_keep_prob_input():\n",
    "    \"\"\"\n",
    "    Return a Tensor for keep probability\n",
    "    : return: Tensor for keep probability.\n",
    "    \"\"\"\n",
    "    # TODO: Implement Function\n",
    "    return tf.placeholder(tf.float32, name='keep_prob')\n",
    "\n",
    "\n",
    "\n",
    "\n",
    "\"\"\"\n",
    "DON'T MODIFY ANYTHING IN THIS CELL THAT IS BELOW THIS LINE\n",
    "\"\"\"\n",
    "tf.reset_default_graph()\n",
    "tests.test_nn_image_inputs(neural_net_image_input)\n",
    "tests.test_nn_label_inputs(neural_net_label_input)\n",
    "tests.test_nn_keep_prob_inputs(neural_net_keep_prob_input)"
   ]
  },
  {
   "cell_type": "markdown",
   "metadata": {},
   "source": [
    "### Convolution and Max Pooling Layer\n",
    "Convolution layers have a lot of success with images. For this code cell, you should implement the function `conv2d_maxpool` to apply convolution then max pooling:\n",
    "* Create the weight and bias using `conv_ksize`, `conv_num_outputs` and the shape of `x_tensor`.\n",
    "* Apply a convolution to `x_tensor` using weight and `conv_strides`.\n",
    " * We recommend you use same padding, but you're welcome to use any padding.\n",
    "* Add bias\n",
    "* Add a nonlinear activation to the convolution.\n",
    "* Apply Max Pooling using `pool_ksize` and `pool_strides`.\n",
    " * We recommend you use same padding, but you're welcome to use any padding.\n",
    "\n",
    "**Note:** You **can't** use [TensorFlow Layers](https://www.tensorflow.org/api_docs/python/tf/layers) or [TensorFlow Layers (contrib)](https://www.tensorflow.org/api_guides/python/contrib.layers) for **this** layer, but you can still use TensorFlow's [Neural Network](https://www.tensorflow.org/api_docs/python/tf/nn) package. You may still use the shortcut option for all the **other** layers.\n",
    "\n",
    "** Hint: **\n",
    "\n",
    "When unpacking values as an argument in Python, look into the [unpacking](https://docs.python.org/3/tutorial/controlflow.html#unpacking-argument-lists) operator. "
   ]
  },
  {
   "cell_type": "code",
   "execution_count": 74,
   "metadata": {
    "collapsed": false
   },
   "outputs": [
    {
     "name": "stdout",
     "output_type": "stream",
     "text": [
      "Tests Passed\n"
     ]
    }
   ],
   "source": [
    "\n",
    "def conv2d_maxpool(x_tensor, conv_num_outputs, conv_ksize, conv_strides, pool_ksize, pool_strides):\n",
    "    \"\"\"\n",
    "    Apply convolution then max pooling to x_tensor\n",
    "    :param x_tensor: TensorFlow Tensor\n",
    "    :param conv_num_outputs: Number of outputs for the convolutional layer\n",
    "    :param conv_ksize: kernal size 2-D Tuple for the convolutional layer\n",
    "    :param conv_strides: Stride 2-D Tuple for convolution\n",
    "    :param pool_ksize: kernal size 2-D Tuple for pool\n",
    "    :param pool_strides: Stride 2-D Tuple for pool\n",
    "    : return: A tensor that represents convolution and max pooling of x_tensor\n",
    "    \"\"\"\n",
    "    filter_height = conv_ksize[0]\n",
    "    filter_width = conv_ksize[1]\n",
    "    in_depth = x_tensor.get_shape().as_list()[3]\n",
    "    out_depth = conv_num_outputs\n",
    "    \n",
    "    ''' \n",
    "    Reference:  He et al. 2015, http://arxiv.org/abs/1502.01852\n",
    "    '''\n",
    "    initi_weight_std = (2. / (filter_height*filter_width*in_depth))**0.5\n",
    "  \n",
    "    weights = tf.Variable(tf.truncated_normal([filter_height, filter_width, in_depth, out_depth], \n",
    "                                              mean = 0.0, stddev = 1.0 / conv_num_outputs ))\n",
    "    biases = tf.Variable(tf.zeros(conv_num_outputs))\n",
    "    \n",
    "    conv_layer_out = tf.nn.bias_add(tf.nn.conv2d(x_tensor, weights, \n",
    "                                                 strides=[1, conv_strides[0], conv_strides[1], 1], padding='SAME'), \n",
    "                                                 biases)\n",
    "    conv_layer_out = tf.nn.relu(conv_layer_out)\n",
    "    maxpooling_out = tf.nn.max_pool(conv_layer_out, ksize=[1, pool_ksize[0], pool_ksize[1], 1], strides=[1, pool_strides[0], pool_strides[1], 1], padding='SAME') \n",
    "    \n",
    "    return maxpooling_out\n",
    "\n",
    "\n",
    "\"\"\"\n",
    "DON'T MODIFY ANYTHING IN THIS CELL THAT IS BELOW THIS LINE\n",
    "\"\"\"\n",
    "tests.test_con_pool(conv2d_maxpool)"
   ]
  },
  {
   "cell_type": "markdown",
   "metadata": {},
   "source": [
    "### Flatten Layer\n",
    "Implement the `flatten` function to change the dimension of `x_tensor` from a 4-D tensor to a 2-D tensor.  The output should be the shape (*Batch Size*, *Flattened Image Size*). Shortcut option: you can use classes from the [TensorFlow Layers](https://www.tensorflow.org/api_docs/python/tf/layers) or [TensorFlow Layers (contrib)](https://www.tensorflow.org/api_guides/python/contrib.layers) packages for this layer. For more of a challenge, only use other TensorFlow packages."
   ]
  },
  {
   "cell_type": "code",
   "execution_count": 31,
   "metadata": {
    "collapsed": false
   },
   "outputs": [
    {
     "name": "stdout",
     "output_type": "stream",
     "text": [
      "Tests Passed\n"
     ]
    }
   ],
   "source": [
    "def flatten(x_tensor):\n",
    "    \"\"\"\n",
    "    Flatten x_tensor to (Batch Size, Flattened Image Size)\n",
    "    : x_tensor: A tensor of size (Batch Size, ...), where ... are the image dimensions.\n",
    "    : return: A tensor of size (Batch Size, Flattened Image Size).\n",
    "    \"\"\"\n",
    "    # TODO: Implement Function\n",
    "    x_dim = x_tensor.get_shape().as_list()\n",
    "    return tf.reshape(x_tensor, [-1, x_dim[1]*x_dim[2]*x_dim[3]])\n",
    "    #return tf.contrib.layers.flatten(x_tensor)\n",
    "\n",
    "\n",
    "\"\"\"\n",
    "DON'T MODIFY ANYTHING IN THIS CELL THAT IS BELOW THIS LINE\n",
    "\"\"\"\n",
    "tests.test_flatten(flatten)"
   ]
  },
  {
   "cell_type": "markdown",
   "metadata": {},
   "source": [
    "### Fully-Connected Layer\n",
    "Implement the `fully_conn` function to apply a fully connected layer to `x_tensor` with the shape (*Batch Size*, *num_outputs*). Shortcut option: you can use classes from the [TensorFlow Layers](https://www.tensorflow.org/api_docs/python/tf/layers) or [TensorFlow Layers (contrib)](https://www.tensorflow.org/api_guides/python/contrib.layers) packages for this layer. For more of a challenge, only use other TensorFlow packages."
   ]
  },
  {
   "cell_type": "code",
   "execution_count": 75,
   "metadata": {
    "collapsed": false
   },
   "outputs": [
    {
     "name": "stdout",
     "output_type": "stream",
     "text": [
      "Tests Passed\n"
     ]
    }
   ],
   "source": [
    "import math\n",
    "def fully_conn(x_tensor, num_outputs):\n",
    "    \"\"\"\n",
    "    Apply a fully connected layer to x_tensor using weight and bias\n",
    "    : x_tensor: A 2-D tensor where the first dimension is batch size.\n",
    "    : num_outputs: The number of output that the new tensor should be.\n",
    "    : return: A 2-D tensor where the second dimension is num_outputs.\n",
    "    \"\"\"\n",
    "    # TODO: Implement Function\n",
    "    input_size = x_tensor.get_shape().as_list()[1]\n",
    "    output_size = num_outputs \n",
    "    \n",
    "    ''' \n",
    "    Reference:  He et al. 2015, http://arxiv.org/abs/1502.01852\n",
    "    '''\n",
    "    initi_weight_std = (2. / input_size)**0.5    \n",
    "    \n",
    "    weights = tf.Variable(tf.truncated_normal([input_size, output_size], mean = 0.0, stddev = 1.0 / input_size))\n",
    "    biases = tf.Variable(tf.zeros(num_outputs))\n",
    "    fc_out = tf.add(tf.matmul(x_tensor, weights), biases)\n",
    "    \n",
    "    \n",
    "    return fc_out\n",
    "\n",
    "\n",
    "\n",
    "\"\"\"\n",
    "DON'T MODIFY ANYTHING IN THIS CELL THAT IS BELOW THIS LINE\n",
    "\"\"\"\n",
    "tests.test_fully_conn(fully_conn)"
   ]
  },
  {
   "cell_type": "markdown",
   "metadata": {},
   "source": [
    "### Output Layer\n",
    "Implement the `output` function to apply a fully connected layer to `x_tensor` with the shape (*Batch Size*, *num_outputs*). Shortcut option: you can use classes from the [TensorFlow Layers](https://www.tensorflow.org/api_docs/python/tf/layers) or [TensorFlow Layers (contrib)](https://www.tensorflow.org/api_guides/python/contrib.layers) packages for this layer. For more of a challenge, only use other TensorFlow packages.\n",
    "\n",
    "**Note:** Activation, softmax, or cross entropy should **not** be applied to this."
   ]
  },
  {
   "cell_type": "code",
   "execution_count": 68,
   "metadata": {
    "collapsed": false
   },
   "outputs": [
    {
     "name": "stdout",
     "output_type": "stream",
     "text": [
      "Tests Passed\n"
     ]
    }
   ],
   "source": [
    "\n",
    "def output(x_tensor, num_outputs):\n",
    "    \"\"\"\n",
    "    Apply a output layer to x_tensor using weight and bias\n",
    "    : x_tensor: A 2-D tensor where the first dimension is batch size.\n",
    "    : num_outputs: The number of output that the new tensor should be.\n",
    "    : return: A 2-D tensor where the second dimension is num_outputs.\n",
    "    \"\"\"\n",
    "    # TODO: Implement Function\n",
    "    input_size = x_tensor.get_shape().as_list()[1]\n",
    "    output_size = num_outputs\n",
    "    ''' \n",
    "    Reference:  He et al. 2015, http://arxiv.org/abs/1502.01852\n",
    "    '''\n",
    "    initi_weight_std = (2. / input_size)**0.5      \n",
    "    \n",
    "    weights = tf.Variable(tf.truncated_normal([input_size, output_size], mean = 0.0, stddev = 1/input_size))\n",
    "    biases = tf.Variable(tf.zeros(num_outputs))    \n",
    "    out = tf.add(tf.matmul(x_tensor, weights), biases)\n",
    "    return out\n",
    "\n",
    "\n",
    "\"\"\"\n",
    "DON'T MODIFY ANYTHING IN THIS CELL THAT IS BELOW THIS LINE\n",
    "\"\"\"\n",
    "tests.test_output(output)"
   ]
  },
  {
   "cell_type": "markdown",
   "metadata": {},
   "source": [
    "### Create Convolutional Model\n",
    "Implement the function `conv_net` to create a convolutional neural network model. The function takes in a batch of images, `x`, and outputs logits.  Use the layers you created above to create this model:\n",
    "\n",
    "* Apply 1, 2, or 3 Convolution and Max Pool layers\n",
    "* Apply a Flatten Layer\n",
    "* Apply 1, 2, or 3 Fully Connected Layers\n",
    "* Apply an Output Layer\n",
    "* Return the output\n",
    "* Apply [TensorFlow's Dropout](https://www.tensorflow.org/api_docs/python/tf/nn/dropout) to one or more layers in the model using `keep_prob`. "
   ]
  },
  {
   "cell_type": "code",
   "execution_count": 83,
   "metadata": {
    "collapsed": false
   },
   "outputs": [
    {
     "name": "stdout",
     "output_type": "stream",
     "text": [
      "Neural Network Built!\n"
     ]
    }
   ],
   "source": [
    "def conv_net(x, keep_prob):\n",
    "    \"\"\"\n",
    "    Create a convolutional neural network model\n",
    "    : x: Placeholder tensor that holds image data.\n",
    "    : keep_prob: Placeholder tensor that hold dropout keep probability.\n",
    "    : return: Tensor that represents logits\n",
    "    \"\"\"\n",
    "    conv_maxpool_output_first = conv2d_maxpool(x, \n",
    "                                               conv_num_outputs = 32, \n",
    "                                               conv_ksize = [3, 3], \n",
    "                                               conv_strides = [1, 1], \n",
    "                                               pool_ksize = [2, 2], \n",
    "                                               pool_strides = [2, 2])\n",
    "    conv_maxpool_output_first = tf.nn.dropout(conv_maxpool_output_first, keep_prob)    \n",
    "\n",
    "    # TODO: Apply a Flatten Layer\n",
    "    # Function Definition from Above:\n",
    "    #   flatten(x_tensor)\n",
    "    flatten_conv_maxpool_output = flatten(conv_maxpool_output_first)\n",
    "\n",
    "    # TODO: Apply 1, 2, or 3 Fully Connected Layers\n",
    "    #    Play around with different number of outputs\n",
    "    # Function Definition from Above:\n",
    "    #   fully_conn(x_tensor, num_outputs)\n",
    "    fc_output_first = fully_conn(flatten_conv_maxpool_output, num_outputs = 10)\n",
    "    fc_output_first = tf.nn.relu(fc_output_first)\n",
    "    fc_output_first = tf.nn.dropout(fc_output_first, keep_prob)\n",
    "    #fc_output_second = fully_conn(fc_output_first, num_outputs = 128)\n",
    "    #fc_output_second = tf.nn.dropout(fc_output_second, keep_prob)\n",
    "    \n",
    "    # TODO: Apply an Output Layer\n",
    "    #    Set this to the number of classes\n",
    "    # Function Definition from Above:\n",
    "    #   output(x_tensor, num_outputs)\n",
    "    final_output = output(fc_output_first, num_outputs = 10)\n",
    "    \n",
    "    # TODO: return output\n",
    "    return final_output\n",
    "\n",
    "\"\"\"\n",
    "DON'T MODIFY ANYTHING IN THIS CELL THAT IS BELOW THIS LINE\n",
    "\"\"\"\n",
    "\n",
    "##############################\n",
    "## Build the Neural Network ##\n",
    "##############################\n",
    "\n",
    "# Remove previous weights, bias, inputs, etc..\n",
    "tf.reset_default_graph()\n",
    "\n",
    "# Inputs\n",
    "x = neural_net_image_input((32, 32, 3))\n",
    "y = neural_net_label_input(10)\n",
    "keep_prob = neural_net_keep_prob_input()\n",
    "\n",
    "# Model\n",
    "logits = conv_net(x, keep_prob)\n",
    "\n",
    "# Name logits Tensor, so that is can be loaded from disk after training\n",
    "logits = tf.identity(logits, name='logits')\n",
    "\n",
    "# Loss and Optimizer\n",
    "cost = tf.reduce_mean(tf.nn.softmax_cross_entropy_with_logits(logits=logits, labels=y))\n",
    "optimizer = tf.train.AdamOptimizer().minimize(cost)\n",
    "\n",
    "# Accuracy\n",
    "correct_pred = tf.equal(tf.argmax(logits, 1), tf.argmax(y, 1))\n",
    "accuracy = tf.reduce_mean(tf.cast(correct_pred, tf.float32), name='accuracy')\n",
    "\n",
    "tests.test_conv_net(conv_net)"
   ]
  },
  {
   "cell_type": "markdown",
   "metadata": {},
   "source": [
    "## Train the Neural Network\n",
    "### Single Optimization\n",
    "Implement the function `train_neural_network` to do a single optimization.  The optimization should use `optimizer` to optimize in `session` with a `feed_dict` of the following:\n",
    "* `x` for image input\n",
    "* `y` for labels\n",
    "* `keep_prob` for keep probability for dropout\n",
    "\n",
    "This function will be called for each batch, so `tf.global_variables_initializer()` has already been called.\n",
    "\n",
    "Note: Nothing needs to be returned. This function is only optimizing the neural network."
   ]
  },
  {
   "cell_type": "code",
   "execution_count": 35,
   "metadata": {
    "collapsed": false
   },
   "outputs": [
    {
     "name": "stdout",
     "output_type": "stream",
     "text": [
      "Tests Passed\n"
     ]
    }
   ],
   "source": [
    "def train_neural_network(session, optimizer, keep_probability, feature_batch, label_batch):\n",
    "    \"\"\"\n",
    "    Optimize the session on a batch of images and labels\n",
    "    : session: Current TensorFlow session\n",
    "    : optimizer: TensorFlow optimizer function\n",
    "    : keep_probability: keep probability\n",
    "    : feature_batch: Batch of Numpy image data\n",
    "    : label_batch: Batch of Numpy label data\n",
    "    \"\"\"\n",
    "    # TODO: Implement Function\n",
    "    session.run(optimizer, feed_dict={x:feature_batch,y:label_batch,keep_prob:keep_probability})\n",
    "\n",
    "\n",
    "\"\"\"\n",
    "DON'T MODIFY ANYTHING IN THIS CELL THAT IS BELOW THIS LINE\n",
    "\"\"\"\n",
    "tests.test_train_nn(train_neural_network)"
   ]
  },
  {
   "cell_type": "markdown",
   "metadata": {},
   "source": [
    "### Show Stats\n",
    "Implement the function `print_stats` to print loss and validation accuracy.  Use the global variables `valid_features` and `valid_labels` to calculate validation accuracy.  Use a keep probability of `1.0` to calculate the loss and validation accuracy."
   ]
  },
  {
   "cell_type": "code",
   "execution_count": 36,
   "metadata": {
    "collapsed": false
   },
   "outputs": [],
   "source": [
    "def print_stats(session, feature_batch, label_batch, cost, accuracy):\n",
    "    \"\"\"\n",
    "    Print information about loss and validation accuracy\n",
    "    : session: Current TensorFlow session\n",
    "    : feature_batch: Batch of Numpy image data\n",
    "    : label_batch: Batch of Numpy label data\n",
    "    : cost: TensorFlow cost function\n",
    "    : accuracy: TensorFlow accuracy function\n",
    "    \"\"\"\n",
    "    # TODO: Implement Function\n",
    "    loss = session.run(cost, feed_dict={x: feature_batch, y: label_batch, keep_prob: 1.})\n",
    "    valid_acc = session.run(accuracy, feed_dict={x: valid_features, y: valid_labels, keep_prob: 1.})\n",
    "    print('Loss: {:>10.4f}, Validation Accuracy: {:.6f}'.format(loss, valid_acc))\n",
    "\n",
    "# Accuracy\n",
    "correct_pred = tf.equal(tf.argmax(logits, 1), tf.argmax(y, 1))\n",
    "accuracy = tf.reduce_mean(tf.cast(correct_pred, tf.float32))"
   ]
  },
  {
   "cell_type": "markdown",
   "metadata": {},
   "source": [
    "### Hyperparameters\n",
    "Tune the following parameters:\n",
    "* Set `epochs` to the number of iterations until the network stops learning or start overfitting\n",
    "* Set `batch_size` to the highest number that your machine has memory for.  Most people set them to common sizes of memory:\n",
    " * 64\n",
    " * 128\n",
    " * 256\n",
    " * ...\n",
    "* Set `keep_probability` to the probability of keeping a node using dropout"
   ]
  },
  {
   "cell_type": "code",
   "execution_count": 79,
   "metadata": {
    "collapsed": true
   },
   "outputs": [],
   "source": [
    "# TODO: Tune Parameters\n",
    "epochs = 10\n",
    "batch_size = 16\n",
    "keep_probability = 0.92"
   ]
  },
  {
   "cell_type": "markdown",
   "metadata": {},
   "source": [
    "### Train on a Single CIFAR-10 Batch\n",
    "Instead of training the neural network on all the CIFAR-10 batches of data, let's use a single batch. This should save time while you iterate on the model to get a better accuracy.  Once the final validation accuracy is 50% or greater, run the model on all the data in the next section."
   ]
  },
  {
   "cell_type": "code",
   "execution_count": 84,
   "metadata": {
    "collapsed": false
   },
   "outputs": [
    {
     "name": "stdout",
     "output_type": "stream",
     "text": [
      "Checking the Training on a Single Batch...\n",
      "Epoch  1, CIFAR-10 Batch 1:  \n",
      "Loss:     2.1194, Validation Accuracy: 0.136400\n",
      "Epoch  2, CIFAR-10 Batch 1:  \n",
      "Loss:     2.1128, Validation Accuracy: 0.134000\n",
      "Epoch  3, CIFAR-10 Batch 1:  \n",
      "Loss:     2.1274, Validation Accuracy: 0.132800\n",
      "Epoch  4, CIFAR-10 Batch 1:  \n",
      "Loss:     2.1526, Validation Accuracy: 0.132400\n",
      "Epoch  5, CIFAR-10 Batch 1:  \n",
      "Loss:     2.1669, Validation Accuracy: 0.134000\n",
      "Epoch  6, CIFAR-10 Batch 1:  \n",
      "Loss:     2.1783, Validation Accuracy: 0.132200\n",
      "Epoch  7, CIFAR-10 Batch 1:  \n",
      "Loss:     2.1617, Validation Accuracy: 0.135400\n",
      "Epoch  8, CIFAR-10 Batch 1:  \n",
      "Loss:     2.1047, Validation Accuracy: 0.137200\n",
      "Epoch  9, CIFAR-10 Batch 1:  \n",
      "Loss:     2.0765, Validation Accuracy: 0.141800\n",
      "Epoch 10, CIFAR-10 Batch 1:  \n",
      "Loss:     2.0465, Validation Accuracy: 0.138800\n"
     ]
    }
   ],
   "source": [
    "\"\"\"\n",
    "DON'T MODIFY ANYTHING IN THIS CELL\n",
    "\"\"\"\n",
    "print('Checking the Training on a Single Batch...')\n",
    "with tf.Session() as sess:\n",
    "    # Initializing the variables\n",
    "    sess.run(tf.global_variables_initializer())\n",
    "    \n",
    "    # Training cycle\n",
    "    for epoch in range(epochs):\n",
    "        batch_i = 1\n",
    "        for batch_features, batch_labels in helper.load_preprocess_training_batch(batch_i, batch_size):\n",
    "            train_neural_network(sess, optimizer, keep_probability, batch_features, batch_labels)\n",
    "        print('Epoch {:>2}, CIFAR-10 Batch {}:  '.format(epoch + 1, batch_i))\n",
    "        print_stats(sess, batch_features, batch_labels, cost, accuracy)"
   ]
  },
  {
   "cell_type": "markdown",
   "metadata": {},
   "source": [
    "### Fully Train the Model\n",
    "Now that you got a good accuracy with a single CIFAR-10 batch, try it with all five batches."
   ]
  },
  {
   "cell_type": "code",
   "execution_count": 61,
   "metadata": {
    "collapsed": false
   },
   "outputs": [
    {
     "name": "stdout",
     "output_type": "stream",
     "text": [
      "Training...\n",
      "Epoch  1, CIFAR-10 Batch 1:  \n",
      "Loss:     2.2850, Validation Accuracy: 0.151600\n",
      "Epoch  1, CIFAR-10 Batch 2:  \n",
      "Loss:     2.2831, Validation Accuracy: 0.151000\n",
      "Epoch  1, CIFAR-10 Batch 3:  \n",
      "Loss:     2.1559, Validation Accuracy: 0.164600\n",
      "Epoch  1, CIFAR-10 Batch 4:  \n",
      "Loss:     2.2506, Validation Accuracy: 0.162800\n",
      "Epoch  1, CIFAR-10 Batch 5:  \n",
      "Loss:     2.2850, Validation Accuracy: 0.160200\n",
      "Epoch  2, CIFAR-10 Batch 1:  \n",
      "Loss:     2.1297, Validation Accuracy: 0.163600\n",
      "Epoch  2, CIFAR-10 Batch 2:  \n",
      "Loss:     2.2013, Validation Accuracy: 0.160800\n",
      "Epoch  2, CIFAR-10 Batch 3:  \n",
      "Loss:     1.9834, Validation Accuracy: 0.168000\n",
      "Epoch  2, CIFAR-10 Batch 4:  \n",
      "Loss:     2.2208, Validation Accuracy: 0.161000\n",
      "Epoch  2, CIFAR-10 Batch 5:  \n",
      "Loss:     2.2201, Validation Accuracy: 0.162600\n",
      "Epoch  3, CIFAR-10 Batch 1:  \n",
      "Loss:     2.0448, Validation Accuracy: 0.169000\n",
      "Epoch  3, CIFAR-10 Batch 2:  \n",
      "Loss:     2.0720, Validation Accuracy: 0.167200\n",
      "Epoch  3, CIFAR-10 Batch 3:  \n",
      "Loss:     1.8007, Validation Accuracy: 0.170000\n",
      "Epoch  3, CIFAR-10 Batch 4:  \n",
      "Loss:     2.1267, Validation Accuracy: 0.168800\n",
      "Epoch  3, CIFAR-10 Batch 5:  \n",
      "Loss:     2.1098, Validation Accuracy: 0.165200\n",
      "Epoch  4, CIFAR-10 Batch 1:  \n",
      "Loss:     1.9447, Validation Accuracy: 0.167400\n",
      "Epoch  4, CIFAR-10 Batch 2:  \n",
      "Loss:     1.9408, Validation Accuracy: 0.168200\n",
      "Epoch  4, CIFAR-10 Batch 3:  \n",
      "Loss:     1.6684, Validation Accuracy: 0.174600\n",
      "Epoch  4, CIFAR-10 Batch 4:  \n",
      "Loss:     2.0731, Validation Accuracy: 0.170400\n",
      "Epoch  4, CIFAR-10 Batch 5:  \n",
      "Loss:     2.0607, Validation Accuracy: 0.168400\n",
      "Epoch  5, CIFAR-10 Batch 1:  \n",
      "Loss:     1.8033, Validation Accuracy: 0.169400\n",
      "Epoch  5, CIFAR-10 Batch 2:  \n",
      "Loss:     1.8583, Validation Accuracy: 0.167400\n",
      "Epoch  5, CIFAR-10 Batch 3:  \n",
      "Loss:     1.5778, Validation Accuracy: 0.176200\n",
      "Epoch  5, CIFAR-10 Batch 4:  \n",
      "Loss:     2.0032, Validation Accuracy: 0.168000\n",
      "Epoch  5, CIFAR-10 Batch 5:  \n",
      "Loss:     2.0082, Validation Accuracy: 0.165800\n",
      "Epoch  6, CIFAR-10 Batch 1:  \n",
      "Loss:     1.6867, Validation Accuracy: 0.170600\n",
      "Epoch  6, CIFAR-10 Batch 2:  \n",
      "Loss:     1.7911, Validation Accuracy: 0.169600\n",
      "Epoch  6, CIFAR-10 Batch 3:  \n",
      "Loss:     1.4652, Validation Accuracy: 0.171800\n",
      "Epoch  6, CIFAR-10 Batch 4:  \n",
      "Loss:     1.8797, Validation Accuracy: 0.165200\n",
      "Epoch  6, CIFAR-10 Batch 5:  \n",
      "Loss:     1.9429, Validation Accuracy: 0.162400\n",
      "Epoch  7, CIFAR-10 Batch 1:  \n",
      "Loss:     1.6109, Validation Accuracy: 0.166200\n",
      "Epoch  7, CIFAR-10 Batch 2:  \n",
      "Loss:     1.7137, Validation Accuracy: 0.166800\n",
      "Epoch  7, CIFAR-10 Batch 3:  \n",
      "Loss:     1.3758, Validation Accuracy: 0.172000\n",
      "Epoch  7, CIFAR-10 Batch 4:  \n",
      "Loss:     1.8526, Validation Accuracy: 0.164600\n",
      "Epoch  7, CIFAR-10 Batch 5:  \n",
      "Loss:     1.8837, Validation Accuracy: 0.165600\n",
      "Epoch  8, CIFAR-10 Batch 1:  \n",
      "Loss:     1.5541, Validation Accuracy: 0.161600\n",
      "Epoch  8, CIFAR-10 Batch 2:  \n",
      "Loss:     1.6699, Validation Accuracy: 0.164800\n",
      "Epoch  8, CIFAR-10 Batch 3:  \n",
      "Loss:     1.3169, Validation Accuracy: 0.164600\n",
      "Epoch  8, CIFAR-10 Batch 4:  \n",
      "Loss:     1.8384, Validation Accuracy: 0.166200\n",
      "Epoch  8, CIFAR-10 Batch 5:  \n",
      "Loss:     1.8432, Validation Accuracy: 0.163000\n",
      "Epoch  9, CIFAR-10 Batch 1:  \n",
      "Loss:     1.4717, Validation Accuracy: 0.164000\n",
      "Epoch  9, CIFAR-10 Batch 2:  \n",
      "Loss:     1.6252, Validation Accuracy: 0.161000\n",
      "Epoch  9, CIFAR-10 Batch 3:  \n",
      "Loss:     1.2663, Validation Accuracy: 0.169000\n",
      "Epoch  9, CIFAR-10 Batch 4:  \n",
      "Loss:     1.7731, Validation Accuracy: 0.162800\n",
      "Epoch  9, CIFAR-10 Batch 5:  \n",
      "Loss:     1.8093, Validation Accuracy: 0.162600\n",
      "Epoch 10, CIFAR-10 Batch 1:  \n",
      "Loss:     1.4457, Validation Accuracy: 0.165800\n",
      "Epoch 10, CIFAR-10 Batch 2:  \n",
      "Loss:     1.6192, Validation Accuracy: 0.164000\n",
      "Epoch 10, CIFAR-10 Batch 3:  \n",
      "Loss:     1.2413, Validation Accuracy: 0.163800\n",
      "Epoch 10, CIFAR-10 Batch 4:  \n",
      "Loss:     1.7615, Validation Accuracy: 0.160800\n",
      "Epoch 10, CIFAR-10 Batch 5:  \n",
      "Loss:     1.7987, Validation Accuracy: 0.156800\n",
      "Epoch 11, CIFAR-10 Batch 1:  \n",
      "Loss:     1.4445, Validation Accuracy: 0.160600\n",
      "Epoch 11, CIFAR-10 Batch 2:  \n",
      "Loss:     1.5945, Validation Accuracy: 0.163000\n",
      "Epoch 11, CIFAR-10 Batch 3:  \n",
      "Loss:     1.2282, Validation Accuracy: 0.163200\n",
      "Epoch 11, CIFAR-10 Batch 4:  \n",
      "Loss:     1.7465, Validation Accuracy: 0.161800\n",
      "Epoch 11, CIFAR-10 Batch 5:  \n",
      "Loss:     1.7831, Validation Accuracy: 0.160600\n",
      "Epoch 12, CIFAR-10 Batch 1:  \n",
      "Loss:     1.4077, Validation Accuracy: 0.156000\n",
      "Epoch 12, CIFAR-10 Batch 2:  \n",
      "Loss:     1.5765, Validation Accuracy: 0.162400\n",
      "Epoch 12, CIFAR-10 Batch 3:  \n",
      "Loss:     1.2183, Validation Accuracy: 0.163200\n",
      "Epoch 12, CIFAR-10 Batch 4:  \n",
      "Loss:     1.7155, Validation Accuracy: 0.162600\n",
      "Epoch 12, CIFAR-10 Batch 5:  \n",
      "Loss:     1.7723, Validation Accuracy: 0.157400\n",
      "Epoch 13, CIFAR-10 Batch 1:  \n",
      "Loss:     1.3824, Validation Accuracy: 0.157800\n",
      "Epoch 13, CIFAR-10 Batch 2:  \n",
      "Loss:     1.5652, Validation Accuracy: 0.158800\n",
      "Epoch 13, CIFAR-10 Batch 3:  \n",
      "Loss:     1.2111, Validation Accuracy: 0.161000\n",
      "Epoch 13, CIFAR-10 Batch 4:  \n",
      "Loss:     1.7082, Validation Accuracy: 0.165000\n",
      "Epoch 13, CIFAR-10 Batch 5:  \n",
      "Loss:     1.7593, Validation Accuracy: 0.156400\n",
      "Epoch 14, CIFAR-10 Batch 1:  \n",
      "Loss:     1.3705, Validation Accuracy: 0.157600\n",
      "Epoch 14, CIFAR-10 Batch 2:  \n",
      "Loss:     1.5637, Validation Accuracy: 0.159600\n",
      "Epoch 14, CIFAR-10 Batch 3:  \n",
      "Loss:     1.2094, Validation Accuracy: 0.164800\n",
      "Epoch 14, CIFAR-10 Batch 4:  \n",
      "Loss:     1.6976, Validation Accuracy: 0.160400\n",
      "Epoch 14, CIFAR-10 Batch 5:  \n",
      "Loss:     1.7672, Validation Accuracy: 0.158600\n",
      "Epoch 15, CIFAR-10 Batch 1:  \n",
      "Loss:     1.3562, Validation Accuracy: 0.154200\n",
      "Epoch 15, CIFAR-10 Batch 2:  \n",
      "Loss:     1.5534, Validation Accuracy: 0.161600\n",
      "Epoch 15, CIFAR-10 Batch 3:  \n",
      "Loss:     1.1915, Validation Accuracy: 0.161800\n",
      "Epoch 15, CIFAR-10 Batch 4:  \n",
      "Loss:     1.6971, Validation Accuracy: 0.156800\n",
      "Epoch 15, CIFAR-10 Batch 5:  \n",
      "Loss:     1.7586, Validation Accuracy: 0.156800\n",
      "Epoch 16, CIFAR-10 Batch 1:  \n",
      "Loss:     1.3506, Validation Accuracy: 0.158600\n",
      "Epoch 16, CIFAR-10 Batch 2:  \n",
      "Loss:     1.5508, Validation Accuracy: 0.159800\n",
      "Epoch 16, CIFAR-10 Batch 3:  \n",
      "Loss:     1.1785, Validation Accuracy: 0.164400\n",
      "Epoch 16, CIFAR-10 Batch 4:  \n",
      "Loss:     1.7064, Validation Accuracy: 0.156800\n",
      "Epoch 16, CIFAR-10 Batch 5:  \n",
      "Loss:     1.7732, Validation Accuracy: 0.153200\n",
      "Epoch 17, CIFAR-10 Batch 1:  \n",
      "Loss:     1.3535, Validation Accuracy: 0.158600\n",
      "Epoch 17, CIFAR-10 Batch 2:  \n",
      "Loss:     1.5389, Validation Accuracy: 0.158000\n",
      "Epoch 17, CIFAR-10 Batch 3:  \n",
      "Loss:     1.1822, Validation Accuracy: 0.159600\n",
      "Epoch 17, CIFAR-10 Batch 4:  \n",
      "Loss:     1.6909, Validation Accuracy: 0.155600\n",
      "Epoch 17, CIFAR-10 Batch 5:  \n",
      "Loss:     1.7589, Validation Accuracy: 0.158400\n",
      "Epoch 18, CIFAR-10 Batch 1:  \n",
      "Loss:     1.3496, Validation Accuracy: 0.155600\n",
      "Epoch 18, CIFAR-10 Batch 2:  \n",
      "Loss:     1.5439, Validation Accuracy: 0.159800\n",
      "Epoch 18, CIFAR-10 Batch 3:  \n",
      "Loss:     1.1869, Validation Accuracy: 0.157800\n",
      "Epoch 18, CIFAR-10 Batch 4:  \n",
      "Loss:     1.6888, Validation Accuracy: 0.155800\n",
      "Epoch 18, CIFAR-10 Batch 5:  \n",
      "Loss:     1.7538, Validation Accuracy: 0.153200\n",
      "Epoch 19, CIFAR-10 Batch 1:  \n",
      "Loss:     1.3441, Validation Accuracy: 0.151800\n",
      "Epoch 19, CIFAR-10 Batch 2:  \n",
      "Loss:     1.5453, Validation Accuracy: 0.153200\n",
      "Epoch 19, CIFAR-10 Batch 3:  \n",
      "Loss:     1.1646, Validation Accuracy: 0.155000\n",
      "Epoch 19, CIFAR-10 Batch 4:  \n",
      "Loss:     1.6840, Validation Accuracy: 0.157800\n",
      "Epoch 19, CIFAR-10 Batch 5:  \n",
      "Loss:     1.7581, Validation Accuracy: 0.154800\n",
      "Epoch 20, CIFAR-10 Batch 1:  \n",
      "Loss:     1.3457, Validation Accuracy: 0.152800\n",
      "Epoch 20, CIFAR-10 Batch 2:  \n",
      "Loss:     1.5437, Validation Accuracy: 0.151800\n",
      "Epoch 20, CIFAR-10 Batch 3:  \n",
      "Loss:     1.1363, Validation Accuracy: 0.155200\n",
      "Epoch 20, CIFAR-10 Batch 4:  \n",
      "Loss:     1.6785, Validation Accuracy: 0.152400\n",
      "Epoch 20, CIFAR-10 Batch 5:  \n",
      "Loss:     1.7501, Validation Accuracy: 0.151400\n",
      "Epoch 21, CIFAR-10 Batch 1:  \n",
      "Loss:     1.3405, Validation Accuracy: 0.158200\n",
      "Epoch 21, CIFAR-10 Batch 2:  \n",
      "Loss:     1.5344, Validation Accuracy: 0.157200\n",
      "Epoch 21, CIFAR-10 Batch 3:  \n",
      "Loss:     1.1458, Validation Accuracy: 0.155400\n",
      "Epoch 21, CIFAR-10 Batch 4:  \n",
      "Loss:     1.6926, Validation Accuracy: 0.152600\n",
      "Epoch 21, CIFAR-10 Batch 5:  \n",
      "Loss:     1.7469, Validation Accuracy: 0.155200\n",
      "Epoch 22, CIFAR-10 Batch 1:  \n",
      "Loss:     1.3421, Validation Accuracy: 0.153200\n",
      "Epoch 22, CIFAR-10 Batch 2:  \n",
      "Loss:     1.5200, Validation Accuracy: 0.159400\n",
      "Epoch 22, CIFAR-10 Batch 3:  \n",
      "Loss:     1.1313, Validation Accuracy: 0.153600\n",
      "Epoch 22, CIFAR-10 Batch 4:  \n",
      "Loss:     1.6772, Validation Accuracy: 0.156600\n",
      "Epoch 22, CIFAR-10 Batch 5:  \n",
      "Loss:     1.7407, Validation Accuracy: 0.155400\n",
      "Epoch 23, CIFAR-10 Batch 1:  \n",
      "Loss:     1.3409, Validation Accuracy: 0.157200\n",
      "Epoch 23, CIFAR-10 Batch 2:  \n",
      "Loss:     1.5295, Validation Accuracy: 0.159000\n",
      "Epoch 23, CIFAR-10 Batch 3:  \n",
      "Loss:     1.1377, Validation Accuracy: 0.156000\n",
      "Epoch 23, CIFAR-10 Batch 4:  \n",
      "Loss:     1.6712, Validation Accuracy: 0.155600\n",
      "Epoch 23, CIFAR-10 Batch 5:  \n",
      "Loss:     1.7464, Validation Accuracy: 0.151600\n",
      "Epoch 24, CIFAR-10 Batch 1:  \n",
      "Loss:     1.3347, Validation Accuracy: 0.151400\n",
      "Epoch 24, CIFAR-10 Batch 2:  \n",
      "Loss:     1.5154, Validation Accuracy: 0.155600\n",
      "Epoch 24, CIFAR-10 Batch 3:  \n",
      "Loss:     1.1308, Validation Accuracy: 0.157200\n",
      "Epoch 24, CIFAR-10 Batch 4:  \n",
      "Loss:     1.6694, Validation Accuracy: 0.153600\n",
      "Epoch 24, CIFAR-10 Batch 5:  \n",
      "Loss:     1.7440, Validation Accuracy: 0.153000\n",
      "Epoch 25, CIFAR-10 Batch 1:  \n",
      "Loss:     1.3447, Validation Accuracy: 0.155800\n",
      "Epoch 25, CIFAR-10 Batch 2:  \n",
      "Loss:     1.5160, Validation Accuracy: 0.156800\n",
      "Epoch 25, CIFAR-10 Batch 3:  \n",
      "Loss:     1.1173, Validation Accuracy: 0.158600\n",
      "Epoch 25, CIFAR-10 Batch 4:  \n",
      "Loss:     1.6567, Validation Accuracy: 0.151400\n",
      "Epoch 25, CIFAR-10 Batch 5:  \n",
      "Loss:     1.7430, Validation Accuracy: 0.149600\n",
      "Epoch 26, CIFAR-10 Batch 1:  \n",
      "Loss:     1.3357, Validation Accuracy: 0.157800\n",
      "Epoch 26, CIFAR-10 Batch 2:  \n",
      "Loss:     1.5061, Validation Accuracy: 0.162000\n",
      "Epoch 26, CIFAR-10 Batch 3:  \n",
      "Loss:     1.1099, Validation Accuracy: 0.159000\n",
      "Epoch 26, CIFAR-10 Batch 4:  \n",
      "Loss:     1.6561, Validation Accuracy: 0.154000\n",
      "Epoch 26, CIFAR-10 Batch 5:  \n",
      "Loss:     1.7374, Validation Accuracy: 0.148600\n",
      "Epoch 27, CIFAR-10 Batch 1:  \n",
      "Loss:     1.3324, Validation Accuracy: 0.156800\n",
      "Epoch 27, CIFAR-10 Batch 2:  \n",
      "Loss:     1.5030, Validation Accuracy: 0.155400\n",
      "Epoch 27, CIFAR-10 Batch 3:  \n",
      "Loss:     1.1047, Validation Accuracy: 0.164600\n",
      "Epoch 27, CIFAR-10 Batch 4:  \n",
      "Loss:     1.6759, Validation Accuracy: 0.156800\n",
      "Epoch 27, CIFAR-10 Batch 5:  \n",
      "Loss:     1.7424, Validation Accuracy: 0.151200\n",
      "Epoch 28, CIFAR-10 Batch 1:  \n",
      "Loss:     1.3347, Validation Accuracy: 0.159200\n",
      "Epoch 28, CIFAR-10 Batch 2:  \n",
      "Loss:     1.5051, Validation Accuracy: 0.158600\n",
      "Epoch 28, CIFAR-10 Batch 3:  \n",
      "Loss:     1.1073, Validation Accuracy: 0.157200\n",
      "Epoch 28, CIFAR-10 Batch 4:  \n",
      "Loss:     1.6660, Validation Accuracy: 0.153000\n",
      "Epoch 28, CIFAR-10 Batch 5:  \n",
      "Loss:     1.7346, Validation Accuracy: 0.155000\n",
      "Epoch 29, CIFAR-10 Batch 1:  \n",
      "Loss:     1.3393, Validation Accuracy: 0.156200\n",
      "Epoch 29, CIFAR-10 Batch 2:  \n",
      "Loss:     1.5074, Validation Accuracy: 0.155800\n",
      "Epoch 29, CIFAR-10 Batch 3:  \n",
      "Loss:     1.0994, Validation Accuracy: 0.162000\n",
      "Epoch 29, CIFAR-10 Batch 4:  \n",
      "Loss:     1.6546, Validation Accuracy: 0.153400\n",
      "Epoch 29, CIFAR-10 Batch 5:  \n",
      "Loss:     1.7353, Validation Accuracy: 0.151600\n",
      "Epoch 30, CIFAR-10 Batch 1:  \n",
      "Loss:     1.3412, Validation Accuracy: 0.154000\n",
      "Epoch 30, CIFAR-10 Batch 2:  \n",
      "Loss:     1.4965, Validation Accuracy: 0.157200\n",
      "Epoch 30, CIFAR-10 Batch 3:  \n",
      "Loss:     1.1003, Validation Accuracy: 0.154800\n",
      "Epoch 30, CIFAR-10 Batch 4:  \n",
      "Loss:     1.6463, Validation Accuracy: 0.159200\n",
      "Epoch 30, CIFAR-10 Batch 5:  \n",
      "Loss:     1.7274, Validation Accuracy: 0.156800\n",
      "Epoch 31, CIFAR-10 Batch 1:  \n",
      "Loss:     1.3361, Validation Accuracy: 0.153000\n",
      "Epoch 31, CIFAR-10 Batch 2:  \n",
      "Loss:     1.4921, Validation Accuracy: 0.160000\n",
      "Epoch 31, CIFAR-10 Batch 3:  \n",
      "Loss:     1.1010, Validation Accuracy: 0.152600\n",
      "Epoch 31, CIFAR-10 Batch 4:  \n",
      "Loss:     1.6443, Validation Accuracy: 0.156600\n",
      "Epoch 31, CIFAR-10 Batch 5:  \n",
      "Loss:     1.7326, Validation Accuracy: 0.152600\n",
      "Epoch 32, CIFAR-10 Batch 1:  \n",
      "Loss:     1.3315, Validation Accuracy: 0.158000\n",
      "Epoch 32, CIFAR-10 Batch 2:  \n",
      "Loss:     1.4873, Validation Accuracy: 0.159800\n",
      "Epoch 32, CIFAR-10 Batch 3:  \n",
      "Loss:     1.0956, Validation Accuracy: 0.153600\n",
      "Epoch 32, CIFAR-10 Batch 4:  \n",
      "Loss:     1.6418, Validation Accuracy: 0.156000\n",
      "Epoch 32, CIFAR-10 Batch 5:  \n",
      "Loss:     1.7262, Validation Accuracy: 0.155200\n",
      "Epoch 33, CIFAR-10 Batch 1:  \n",
      "Loss:     1.3324, Validation Accuracy: 0.155800\n",
      "Epoch 33, CIFAR-10 Batch 2:  \n",
      "Loss:     1.4902, Validation Accuracy: 0.155200\n",
      "Epoch 33, CIFAR-10 Batch 3:  \n",
      "Loss:     1.0964, Validation Accuracy: 0.151200\n",
      "Epoch 33, CIFAR-10 Batch 4:  \n",
      "Loss:     1.6395, Validation Accuracy: 0.155600\n",
      "Epoch 33, CIFAR-10 Batch 5:  \n",
      "Loss:     1.7294, Validation Accuracy: 0.155600\n",
      "Epoch 34, CIFAR-10 Batch 1:  \n",
      "Loss:     1.3320, Validation Accuracy: 0.152400\n",
      "Epoch 34, CIFAR-10 Batch 2:  \n",
      "Loss:     1.4860, Validation Accuracy: 0.153600\n",
      "Epoch 34, CIFAR-10 Batch 3:  \n",
      "Loss:     1.0916, Validation Accuracy: 0.153000\n",
      "Epoch 34, CIFAR-10 Batch 4:  \n",
      "Loss:     1.6381, Validation Accuracy: 0.156400\n",
      "Epoch 34, CIFAR-10 Batch 5:  \n",
      "Loss:     1.7284, Validation Accuracy: 0.149400\n",
      "Epoch 35, CIFAR-10 Batch 1:  \n",
      "Loss:     1.3322, Validation Accuracy: 0.157600\n",
      "Epoch 35, CIFAR-10 Batch 2:  \n",
      "Loss:     1.4888, Validation Accuracy: 0.156600\n",
      "Epoch 35, CIFAR-10 Batch 3:  \n",
      "Loss:     1.0933, Validation Accuracy: 0.158400\n",
      "Epoch 35, CIFAR-10 Batch 4:  \n",
      "Loss:     1.6363, Validation Accuracy: 0.154600\n",
      "Epoch 35, CIFAR-10 Batch 5:  \n",
      "Loss:     1.7265, Validation Accuracy: 0.154000\n",
      "Epoch 36, CIFAR-10 Batch 1:  \n",
      "Loss:     1.3318, Validation Accuracy: 0.155600\n",
      "Epoch 36, CIFAR-10 Batch 2:  \n",
      "Loss:     1.4818, Validation Accuracy: 0.157600\n",
      "Epoch 36, CIFAR-10 Batch 3:  \n",
      "Loss:     1.0981, Validation Accuracy: 0.154600\n",
      "Epoch 36, CIFAR-10 Batch 4:  \n",
      "Loss:     1.6423, Validation Accuracy: 0.154200\n",
      "Epoch 36, CIFAR-10 Batch 5:  \n",
      "Loss:     1.7298, Validation Accuracy: 0.152200\n",
      "Epoch 37, CIFAR-10 Batch 1:  \n",
      "Loss:     1.3324, Validation Accuracy: 0.148400\n",
      "Epoch 37, CIFAR-10 Batch 2:  \n",
      "Loss:     1.4819, Validation Accuracy: 0.158200\n",
      "Epoch 37, CIFAR-10 Batch 3:  \n",
      "Loss:     1.0902, Validation Accuracy: 0.155200\n",
      "Epoch 37, CIFAR-10 Batch 4:  \n",
      "Loss:     1.6449, Validation Accuracy: 0.151600\n",
      "Epoch 37, CIFAR-10 Batch 5:  \n",
      "Loss:     1.7318, Validation Accuracy: 0.148800\n",
      "Epoch 38, CIFAR-10 Batch 1:  \n",
      "Loss:     1.3302, Validation Accuracy: 0.155000\n",
      "Epoch 38, CIFAR-10 Batch 2:  \n",
      "Loss:     1.4819, Validation Accuracy: 0.161800\n",
      "Epoch 38, CIFAR-10 Batch 3:  \n",
      "Loss:     1.0871, Validation Accuracy: 0.155600\n",
      "Epoch 38, CIFAR-10 Batch 4:  \n",
      "Loss:     1.6356, Validation Accuracy: 0.153800\n",
      "Epoch 38, CIFAR-10 Batch 5:  \n",
      "Loss:     1.7310, Validation Accuracy: 0.152600\n",
      "Epoch 39, CIFAR-10 Batch 1:  \n",
      "Loss:     1.3304, Validation Accuracy: 0.154400\n",
      "Epoch 39, CIFAR-10 Batch 2:  \n",
      "Loss:     1.4829, Validation Accuracy: 0.162200\n",
      "Epoch 39, CIFAR-10 Batch 3:  \n",
      "Loss:     1.0848, Validation Accuracy: 0.157000\n",
      "Epoch 39, CIFAR-10 Batch 4:  \n",
      "Loss:     1.6374, Validation Accuracy: 0.153400\n",
      "Epoch 39, CIFAR-10 Batch 5:  \n",
      "Loss:     1.7337, Validation Accuracy: 0.154000\n",
      "Epoch 40, CIFAR-10 Batch 1:  \n",
      "Loss:     1.3325, Validation Accuracy: 0.155600\n",
      "Epoch 40, CIFAR-10 Batch 2:  \n",
      "Loss:     1.4809, Validation Accuracy: 0.157800\n",
      "Epoch 40, CIFAR-10 Batch 3:  \n",
      "Loss:     1.0795, Validation Accuracy: 0.152600\n",
      "Epoch 40, CIFAR-10 Batch 4:  \n",
      "Loss:     1.6422, Validation Accuracy: 0.154800\n",
      "Epoch 40, CIFAR-10 Batch 5:  \n",
      "Loss:     1.7252, Validation Accuracy: 0.153200\n",
      "Epoch 41, CIFAR-10 Batch 1:  \n",
      "Loss:     1.3301, Validation Accuracy: 0.155800\n",
      "Epoch 41, CIFAR-10 Batch 2:  \n",
      "Loss:     1.4769, Validation Accuracy: 0.159800\n",
      "Epoch 41, CIFAR-10 Batch 3:  \n",
      "Loss:     1.0769, Validation Accuracy: 0.155200\n",
      "Epoch 41, CIFAR-10 Batch 4:  \n",
      "Loss:     1.6345, Validation Accuracy: 0.155000\n",
      "Epoch 41, CIFAR-10 Batch 5:  \n",
      "Loss:     1.7305, Validation Accuracy: 0.152200\n",
      "Epoch 42, CIFAR-10 Batch 1:  \n",
      "Loss:     1.3300, Validation Accuracy: 0.156200\n",
      "Epoch 42, CIFAR-10 Batch 2:  \n",
      "Loss:     1.4753, Validation Accuracy: 0.158800\n",
      "Epoch 42, CIFAR-10 Batch 3:  \n",
      "Loss:     1.0812, Validation Accuracy: 0.157600\n",
      "Epoch 42, CIFAR-10 Batch 4:  \n",
      "Loss:     1.6308, Validation Accuracy: 0.153800\n",
      "Epoch 42, CIFAR-10 Batch 5:  \n",
      "Loss:     1.7301, Validation Accuracy: 0.154400\n",
      "Epoch 43, CIFAR-10 Batch 1:  \n",
      "Loss:     1.3300, Validation Accuracy: 0.152800\n",
      "Epoch 43, CIFAR-10 Batch 2:  \n",
      "Loss:     1.4822, Validation Accuracy: 0.161000\n",
      "Epoch 43, CIFAR-10 Batch 3:  \n",
      "Loss:     1.0726, Validation Accuracy: 0.153800\n",
      "Epoch 43, CIFAR-10 Batch 4:  \n",
      "Loss:     1.6329, Validation Accuracy: 0.156000\n",
      "Epoch 43, CIFAR-10 Batch 5:  \n",
      "Loss:     1.7239, Validation Accuracy: 0.152600\n",
      "Epoch 44, CIFAR-10 Batch 1:  \n",
      "Loss:     1.3335, Validation Accuracy: 0.153000\n",
      "Epoch 44, CIFAR-10 Batch 2:  \n",
      "Loss:     1.4807, Validation Accuracy: 0.158000\n",
      "Epoch 44, CIFAR-10 Batch 3:  \n",
      "Loss:     1.0754, Validation Accuracy: 0.159000\n",
      "Epoch 44, CIFAR-10 Batch 4:  \n",
      "Loss:     1.6289, Validation Accuracy: 0.153200\n",
      "Epoch 44, CIFAR-10 Batch 5:  \n",
      "Loss:     1.7228, Validation Accuracy: 0.148800\n",
      "Epoch 45, CIFAR-10 Batch 1:  \n",
      "Loss:     1.3363, Validation Accuracy: 0.152000\n",
      "Epoch 45, CIFAR-10 Batch 2:  \n",
      "Loss:     1.4779, Validation Accuracy: 0.161000\n",
      "Epoch 45, CIFAR-10 Batch 3:  \n",
      "Loss:     1.0723, Validation Accuracy: 0.156600\n",
      "Epoch 45, CIFAR-10 Batch 4:  \n",
      "Loss:     1.6295, Validation Accuracy: 0.153400\n",
      "Epoch 45, CIFAR-10 Batch 5:  \n",
      "Loss:     1.7180, Validation Accuracy: 0.153000\n",
      "Epoch 46, CIFAR-10 Batch 1:  \n",
      "Loss:     1.3313, Validation Accuracy: 0.154600\n",
      "Epoch 46, CIFAR-10 Batch 2:  \n",
      "Loss:     1.4760, Validation Accuracy: 0.160200\n",
      "Epoch 46, CIFAR-10 Batch 3:  \n",
      "Loss:     1.0697, Validation Accuracy: 0.154600\n",
      "Epoch 46, CIFAR-10 Batch 4:  \n",
      "Loss:     1.6336, Validation Accuracy: 0.156600\n",
      "Epoch 46, CIFAR-10 Batch 5:  \n",
      "Loss:     1.7110, Validation Accuracy: 0.151200\n",
      "Epoch 47, CIFAR-10 Batch 1:  \n",
      "Loss:     1.3320, Validation Accuracy: 0.150600\n",
      "Epoch 47, CIFAR-10 Batch 2:  \n",
      "Loss:     1.4749, Validation Accuracy: 0.160400\n",
      "Epoch 47, CIFAR-10 Batch 3:  \n",
      "Loss:     1.0687, Validation Accuracy: 0.155200\n",
      "Epoch 47, CIFAR-10 Batch 4:  \n",
      "Loss:     1.6287, Validation Accuracy: 0.150800\n",
      "Epoch 47, CIFAR-10 Batch 5:  \n",
      "Loss:     1.7093, Validation Accuracy: 0.152600\n",
      "Epoch 48, CIFAR-10 Batch 1:  \n",
      "Loss:     1.3309, Validation Accuracy: 0.154000\n",
      "Epoch 48, CIFAR-10 Batch 2:  \n",
      "Loss:     1.4760, Validation Accuracy: 0.159000\n",
      "Epoch 48, CIFAR-10 Batch 3:  \n",
      "Loss:     1.0702, Validation Accuracy: 0.155200\n",
      "Epoch 48, CIFAR-10 Batch 4:  \n",
      "Loss:     1.6234, Validation Accuracy: 0.150200\n",
      "Epoch 48, CIFAR-10 Batch 5:  \n",
      "Loss:     1.7076, Validation Accuracy: 0.157400\n",
      "Epoch 49, CIFAR-10 Batch 1:  \n",
      "Loss:     1.3305, Validation Accuracy: 0.152000\n",
      "Epoch 49, CIFAR-10 Batch 2:  \n",
      "Loss:     1.4790, Validation Accuracy: 0.158000\n",
      "Epoch 49, CIFAR-10 Batch 3:  \n",
      "Loss:     1.0637, Validation Accuracy: 0.153400\n",
      "Epoch 49, CIFAR-10 Batch 4:  \n",
      "Loss:     1.6260, Validation Accuracy: 0.151200\n",
      "Epoch 49, CIFAR-10 Batch 5:  \n",
      "Loss:     1.7092, Validation Accuracy: 0.155000\n",
      "Epoch 50, CIFAR-10 Batch 1:  \n",
      "Loss:     1.3296, Validation Accuracy: 0.155200\n",
      "Epoch 50, CIFAR-10 Batch 2:  \n",
      "Loss:     1.4766, Validation Accuracy: 0.159600\n",
      "Epoch 50, CIFAR-10 Batch 3:  \n",
      "Loss:     1.0618, Validation Accuracy: 0.155400\n",
      "Epoch 50, CIFAR-10 Batch 4:  \n",
      "Loss:     1.6230, Validation Accuracy: 0.152200\n",
      "Epoch 50, CIFAR-10 Batch 5:  \n",
      "Loss:     1.7080, Validation Accuracy: 0.153000\n"
     ]
    }
   ],
   "source": [
    "\"\"\"\n",
    "DON'T MODIFY ANYTHING IN THIS CELL\n",
    "\"\"\"\n",
    "save_model_path = './image_classification'\n",
    "\n",
    "print('Training...')\n",
    "with tf.Session() as sess:\n",
    "    # Initializing the variables\n",
    "    sess.run(tf.global_variables_initializer())\n",
    "    \n",
    "    # Training cycle\n",
    "    for epoch in range(epochs):\n",
    "        # Loop over all batches\n",
    "        n_batches = 5\n",
    "        for batch_i in range(1, n_batches + 1):\n",
    "            for batch_features, batch_labels in helper.load_preprocess_training_batch(batch_i, batch_size):\n",
    "                train_neural_network(sess, optimizer, keep_probability, batch_features, batch_labels)\n",
    "            print('Epoch {:>2}, CIFAR-10 Batch {}:  '.format(epoch + 1, batch_i))\n",
    "            print_stats(sess, batch_features, batch_labels, cost, accuracy)\n",
    "            \n",
    "    # Save Model\n",
    "    saver = tf.train.Saver()\n",
    "    save_path = saver.save(sess, save_model_path)"
   ]
  },
  {
   "cell_type": "markdown",
   "metadata": {},
   "source": [
    "# Checkpoint\n",
    "The model has been saved to disk.\n",
    "## Test Model\n",
    "Test your model against the test dataset.  This will be your final accuracy. You should have an accuracy greater than 50%. If you don't, keep tweaking the model architecture and parameters."
   ]
  },
  {
   "cell_type": "code",
   "execution_count": 62,
   "metadata": {
    "collapsed": false
   },
   "outputs": [
    {
     "name": "stdout",
     "output_type": "stream",
     "text": [
      "Testing Accuracy: 0.153515625\n",
      "\n"
     ]
    },
    {
     "data": {
      "image/png": "[encoded data removed]",
      "text/plain": [
       "<matplotlib.figure.Figure at 0x116789b10>"
      ]
     },
     "metadata": {
      "image/png": {
       "height": 319,
       "width": 355
      }
     },
     "output_type": "display_data"
    }
   ],
   "source": [
    "\"\"\"\n",
    "DON'T MODIFY ANYTHING IN THIS CELL\n",
    "\"\"\"\n",
    "%matplotlib inline\n",
    "%config InlineBackend.figure_format = 'retina'\n",
    "\n",
    "import tensorflow as tf\n",
    "import pickle\n",
    "import helper\n",
    "import random\n",
    "\n",
    "# Set batch size if not already set\n",
    "try:\n",
    "    if batch_size:\n",
    "        pass\n",
    "except NameError:\n",
    "    batch_size = 64\n",
    "\n",
    "save_model_path = './image_classification'\n",
    "n_samples = 4\n",
    "top_n_predictions = 3\n",
    "\n",
    "def test_model():\n",
    "    \"\"\"\n",
    "    Test the saved model against the test dataset\n",
    "    \"\"\"\n",
    "\n",
    "    test_features, test_labels = pickle.load(open('preprocess_training.p', mode='rb'))\n",
    "    loaded_graph = tf.Graph()\n",
    "\n",
    "    with tf.Session(graph=loaded_graph) as sess:\n",
    "        # Load model\n",
    "        loader = tf.train.import_meta_graph(save_model_path + '.meta')\n",
    "        loader.restore(sess, save_model_path)\n",
    "\n",
    "        # Get Tensors from loaded model\n",
    "        loaded_x = loaded_graph.get_tensor_by_name('x:0')\n",
    "        loaded_y = loaded_graph.get_tensor_by_name('y:0')\n",
    "        loaded_keep_prob = loaded_graph.get_tensor_by_name('keep_prob:0')\n",
    "        loaded_logits = loaded_graph.get_tensor_by_name('logits:0')\n",
    "        loaded_acc = loaded_graph.get_tensor_by_name('accuracy:0')\n",
    "        \n",
    "        # Get accuracy in batches for memory limitations\n",
    "        test_batch_acc_total = 0\n",
    "        test_batch_count = 0\n",
    "        \n",
    "        for train_feature_batch, train_label_batch in helper.batch_features_labels(test_features, test_labels, batch_size):\n",
    "            test_batch_acc_total += sess.run(\n",
    "                loaded_acc,\n",
    "                feed_dict={loaded_x: train_feature_batch, loaded_y: train_label_batch, loaded_keep_prob: 1.0})\n",
    "            test_batch_count += 1\n",
    "\n",
    "        print('Testing Accuracy: {}\\n'.format(test_batch_acc_total/test_batch_count))\n",
    "\n",
    "        # Print Random Samples\n",
    "        random_test_features, random_test_labels = tuple(zip(*random.sample(list(zip(test_features, test_labels)), n_samples)))\n",
    "        random_test_predictions = sess.run(\n",
    "            tf.nn.top_k(tf.nn.softmax(loaded_logits), top_n_predictions),\n",
    "            feed_dict={loaded_x: random_test_features, loaded_y: random_test_labels, loaded_keep_prob: 1.0})\n",
    "        helper.display_image_predictions(random_test_features, random_test_labels, random_test_predictions)\n",
    "\n",
    "\n",
    "test_model()"
   ]
  },
  {
   "cell_type": "markdown",
   "metadata": {},
   "source": [
    "## Why 50-80% Accuracy?\n",
    "You might be wondering why you can't get an accuracy any higher. First things first, 50% isn't bad for a simple CNN.  Pure guessing would get you 10% accuracy. That's because there are many more techniques that can be applied to your model and we recemmond that once you are done with this project, you explore!\n",
    "\n",
    "## Submitting This Project\n",
    "When submitting this project, make sure to run all the cells before saving the notebook.  Save the notebook file as \"image_classification.ipynb\" and save it as a HTML file under \"File\" -> \"Download as\".  Include the \"helper.py\" and \"problem_unittests.py\" files in your submission."
   ]
  }
 ],
 "metadata": {
  "kernelspec": {
   "display_name": "Python 2",
   "language": "python",
   "name": "python2"
  },
  "language_info": {
   "codemirror_mode": {
    "name": "ipython",
    "version": 2
   },
   "file_extension": ".py",
   "mimetype": "text/x-python",
   "name": "python",
   "nbconvert_exporter": "python",
   "pygments_lexer": "ipython2",
   "version": "2.7.13"
  }
 },
 "nbformat": 4,
 "nbformat_minor": 0
}
